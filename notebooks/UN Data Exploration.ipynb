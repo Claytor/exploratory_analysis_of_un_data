{
 "cells": [
  {
   "cell_type": "markdown",
   "metadata": {},
   "source": [
    "> Part 3\n",
    "- In the first cell of your notebook, import the required packages with their customary aliases"
   ]
  },
  {
   "cell_type": "code",
   "execution_count": 84,
   "metadata": {},
   "outputs": [],
   "source": [
    "# Import python packages\n",
    "import pandas as pd\n",
    "import numpy as np\n",
    "import matplotlib.pyplot as plt\n",
    "import seaborn as sns"
   ]
  },
  {
   "cell_type": "markdown",
   "metadata": {},
   "source": [
    "> Part 4\n",
    "- The original csv had two rows attached to the bottom that contained an index.\n",
    "- The csv() call was modified by passing \"skipfooter_2\" to correct this issue. \n",
    "- The original csv file was not modified."
   ]
  },
  {
   "cell_type": "code",
   "execution_count": 85,
   "metadata": {},
   "outputs": [
    {
     "name": "stdout",
     "output_type": "stream",
     "text": [
      "     Country or Area  Year        Value  Value Footnotes\n",
      "0        Afghanistan  2019  2065.036398              NaN\n",
      "1        Afghanistan  2018  2033.779002              NaN\n",
      "2        Afghanistan  2017  2058.383832              NaN\n",
      "3        Afghanistan  2016  2057.062164              NaN\n",
      "4        Afghanistan  2015  2068.265904              NaN\n",
      "...              ...   ...          ...              ...\n",
      "6863        Zimbabwe  1994  3263.934978              NaN\n",
      "6864        Zimbabwe  1993  3033.504852              NaN\n",
      "6865        Zimbabwe  1992  3054.889178              NaN\n",
      "6866        Zimbabwe  1991  3426.598094              NaN\n",
      "6867        Zimbabwe  1990  3324.348171              NaN\n",
      "\n",
      "[6868 rows x 4 columns]\n"
     ]
    }
   ],
   "source": [
    "#Drop last two cells to remove index at bottom.\n",
    "gdp_df = pd.read_csv('../data/Undata.csv', \n",
    "    skipfooter=2, engine='python')\n",
    "print(gdp_df)"
   ]
  },
  {
   "cell_type": "markdown",
   "metadata": {},
   "source": [
    ">  Part 5\n",
    "- Drop the 'Value Footnotes' column, and rename the remaining columns to 'Country', 'Year', and 'GDP_Per_Capita'\n"
   ]
  },
  {
   "cell_type": "code",
   "execution_count": 86,
   "metadata": {},
   "outputs": [
    {
     "name": "stdout",
     "output_type": "stream",
     "text": [
      "       Country  Year  GDP_Per_Capita\n",
      "0  Afghanistan  2019     2065.036398\n"
     ]
    }
   ],
   "source": [
    "gdp_df = gdp_df.drop(columns = ['Value Footnotes'])\n",
    "gdp_df.columns = ['Country', 'Year', 'GDP_Per_Capita']\n",
    "print(gdp_df.head(n=1))"
   ]
  },
  {
   "cell_type": "markdown",
   "metadata": {},
   "source": [
    "> Part 6\n",
    "- How many rows and columns does gdp_df have? What are the data types of its columns? If any of the columns are not the expected types, figure out why and fix it.\n",
    "    - There are 3 columns and 6868 rows. \n",
    "    - Dataypes are #0 - Object, #2 - int64, #3 - float64.\n",
    "    - I don't think there is anything wrong with Dypes."
   ]
  },
  {
   "cell_type": "code",
   "execution_count": 87,
   "metadata": {},
   "outputs": [
    {
     "name": "stdout",
     "output_type": "stream",
     "text": [
      "<class 'pandas.core.frame.DataFrame'>\n",
      "RangeIndex: 6868 entries, 0 to 6867\n",
      "Data columns (total 3 columns):\n",
      " #   Column          Non-Null Count  Dtype  \n",
      "---  ------          --------------  -----  \n",
      " 0   Country         6868 non-null   object \n",
      " 1   Year            6868 non-null   int64  \n",
      " 2   GDP_Per_Capita  6868 non-null   float64\n",
      "dtypes: float64(1), int64(1), object(1)\n",
      "memory usage: 161.1+ KB\n",
      "None\n"
     ]
    }
   ],
   "source": [
    "print(gdp_df.info())"
   ]
  },
  {
   "cell_type": "markdown",
   "metadata": {},
   "source": [
    "> Part 7 \n",
    "- Which years are represented in this dataset? \n",
    "    - The years 1990 - 2017 are represented in the dataset.\n",
    "- Take a look at the number of observations per year. What do you notice?\n",
    "    - The number of observations per year seems to trend upward."
   ]
  },
  {
   "cell_type": "code",
   "execution_count": 88,
   "metadata": {},
   "outputs": [
    {
     "data": {
      "text/plain": [
       "2017    238\n",
       "2016    238\n",
       "2015    238\n",
       "2014    238\n",
       "2013    238\n",
       "2012    237\n",
       "2011    237\n",
       "2018    237\n",
       "2010    236\n",
       "2009    236\n",
       "2008    235\n",
       "2007    235\n",
       "2006    235\n",
       "2005    234\n",
       "2004    234\n",
       "2003    233\n",
       "2002    233\n",
       "2001    232\n",
       "2000    231\n",
       "2019    231\n",
       "1999    224\n",
       "1998    223\n",
       "1997    223\n",
       "1996    221\n",
       "1995    221\n",
       "1994    214\n",
       "1993    212\n",
       "1992    209\n",
       "1991    208\n",
       "1990    207\n",
       "Name: Year, dtype: int64"
      ]
     },
     "execution_count": 88,
     "metadata": {},
     "output_type": "execute_result"
    }
   ],
   "source": [
    "gdp_df[\"Year\"].value_counts()"
   ]
  },
  {
   "cell_type": "markdown",
   "metadata": {},
   "source": [
    ">  Part 8 \n",
    "- How many countries are represented in this dataset?\n",
    "    - There are 238 countries represented in the dataset.\n",
    "- Which countries are least represented in the dataset?\n",
    "    - Djibouti, Turks and Caicos Islands, Sint Maarten (Dutch part), Cayman Islands, and Nauru\n",
    "- Why do you think these countries have so few observations?\n",
    "    - Perhaps they have not been members of the UN as long as others."
   ]
  },
  {
   "cell_type": "code",
   "execution_count": 89,
   "metadata": {},
   "outputs": [
    {
     "data": {
      "text/plain": [
       "Lebanon                      30\n",
       "Middle income                30\n",
       "Morocco                      30\n",
       "Mozambique                   30\n",
       "Myanmar                      30\n",
       "                             ..\n",
       "Nauru                        16\n",
       "Cayman Islands               13\n",
       "Sint Maarten (Dutch part)    10\n",
       "Turks and Caicos Islands      9\n",
       "Djibouti                      7\n",
       "Name: Country, Length: 238, dtype: int64"
      ]
     },
     "execution_count": 89,
     "metadata": {},
     "output_type": "execute_result"
    }
   ],
   "source": [
    "gdp_df['Country'].value_counts()"
   ]
  },
  {
   "cell_type": "markdown",
   "metadata": {},
   "source": [
    "> Part 9\n",
    "- Create a new dataframe by subsetting gdp_df to just the year 2014. Call this new dataframe gdp_2014."
   ]
  },
  {
   "cell_type": "code",
   "execution_count": 90,
   "metadata": {},
   "outputs": [
    {
     "name": "stdout",
     "output_type": "stream",
     "text": [
      "                  Country  Year  GDP_Per_Capita\n",
      "5             Afghanistan  2014     2102.385234\n",
      "23                Albania  2014    11623.866679\n",
      "53                Algeria  2014    11512.705405\n",
      "83                 Angola  2014     8239.828837\n",
      "113   Antigua and Barbuda  2014    18104.241470\n",
      "...                   ...   ...             ...\n",
      "6727              Vietnam  2014     6098.489609\n",
      "6757   West Bank and Gaza  2014     5967.073437\n",
      "6783                World  2014    15189.648507\n",
      "6813               Zambia  2014     3450.046561\n",
      "6843             Zimbabwe  2014     2955.240287\n",
      "\n",
      "[238 rows x 3 columns]\n"
     ]
    }
   ],
   "source": [
    "gdp_2014 = gdp_df.loc[gdp_df['Year'] == 2014]\n",
    "print(gdp_2014)"
   ]
  },
  {
   "cell_type": "markdown",
   "metadata": {},
   "source": [
    "> Part 10\n",
    "- Use `.describe()` to find the summary statistics for GDP per capita in 2014. "
   ]
  },
  {
   "cell_type": "code",
   "execution_count": 91,
   "metadata": {},
   "outputs": [
    {
     "data": {
      "text/plain": [
       "count       238.000000\n",
       "mean      19766.710348\n",
       "std       20983.869623\n",
       "min         822.610458\n",
       "50%       12209.385755\n",
       "max      156514.133850\n",
       "Name: GDP_Per_Capita, dtype: float64"
      ]
     },
     "execution_count": 91,
     "metadata": {},
     "output_type": "execute_result"
    }
   ],
   "source": [
    "gdp_2014[\"GDP_Per_Capita\"].describe([])"
   ]
  },
  {
   "cell_type": "markdown",
   "metadata": {},
   "source": [
    "> Part 11\n",
    "- Create a histogram of GDP Per Capita numbers for 2014 \n",
    "- How would you describe the shape of the distribution?\n",
    "    - The distribution appears to be skewed to the right"
   ]
  },
  {
   "cell_type": "code",
   "execution_count": 92,
   "metadata": {},
   "outputs": [
    {
     "data": {
      "image/png": "[encoded data removed]",
      "text/plain": [
       "<Figure size 432x288 with 1 Axes>"
      ]
     },
     "metadata": {
      "needs_background": "light"
     },
     "output_type": "display_data"
    }
   ],
   "source": [
    "gdp_2014[\"GDP_Per_Capita\"].hist(bins=20)\n",
    "plt.show()"
   ]
  },
  {
   "cell_type": "markdown",
   "metadata": {},
   "source": [
    "> Part 12 \n",
    "- For GDP per capita in 2014 find:\n",
    "- Top 5 counties\n",
    "    - Macao SAR, China, Luxembourg, Qatar, Singapore, Bermuda\n",
    "- Bottom 5 countries\n",
    "    - Niger, Dem. Rep. Congo, Malawi, Burundi, Central African Republic"
   ]
  },
  {
   "cell_type": "code",
   "execution_count": 93,
   "metadata": {},
   "outputs": [
    {
     "name": "stdout",
     "output_type": "stream",
     "text": [
      "                       Country  Year  GDP_Per_Capita\n",
      "3721          Macao SAR, China  2014   156514.133850\n",
      "3691                Luxembourg  2014   108760.916030\n",
      "5138                     Qatar  2014    95578.416973\n",
      "5464                 Singapore  2014    87808.663157\n",
      "561                    Bermuda  2014    77361.104881\n",
      "...                        ...   ...             ...\n",
      "4528                     Niger  2014     1127.615541\n",
      "1422           Dem. Rep. Congo  2014     1029.790785\n",
      "3781                    Malawi  2014     1027.208496\n",
      "827                    Burundi  2014      886.235777\n",
      "1047  Central African Republic  2014      822.610458\n",
      "\n",
      "[238 rows x 3 columns]\n"
     ]
    }
   ],
   "source": [
    "print(gdp_2014.sort_values('GDP_Per_Capita', ascending=False))"
   ]
  },
  {
   "cell_type": "markdown",
   "metadata": {},
   "source": [
    "> Part 13.\n",
    "- return to the full dataset, `gdp_df`. \n",
    "- Pivot the data for 1990 and 2017 (using the pandas `.pivot_table()` method or another method) so that: \n",
    "    - each row corresponds to a country\n",
    "    - each column corresponds to a year\n",
    "    - the values in the table give the GDP_Per_Capita amount. \n",
    "- Drop any rows that are missing values for either 1990 or 2017. \n",
    "- Save the result to a dataframe named `gdp_pivoted`."
   ]
  },
  {
   "cell_type": "code",
   "execution_count": 94,
   "metadata": {},
   "outputs": [],
   "source": [
    "gdp_pivoted = (gdp_df.loc[gdp_df['Year'].isin([1990, 2017])].pivot_table(values='GDP_Per_Capita', index='Country', columns=\"Year\").dropna())"
   ]
  },
  {
   "cell_type": "markdown",
   "metadata": {},
   "source": [
    "> Part 14. \n",
    "- Create a new column in `gdp_pivoted` named `Percent_Change`. This column should contain the percent change in GDP_Per_Capita from 1990 to 2017. Hint: Percent change is calculated as 100*(New Value - Old Value) / Old Value."
   ]
  },
  {
   "cell_type": "code",
   "execution_count": 95,
   "metadata": {},
   "outputs": [],
   "source": [
    "gdp_pivoted[\"Percent_Change\"] = 100*((gdp_pivoted[2017] - gdp_pivoted[1990]) / (gdp_pivoted [1990]))"
   ]
  },
  {
   "cell_type": "markdown",
   "metadata": {},
   "source": [
    "> Part 15. \n",
    "- How many countries experienced a negative percent change in GDP per capita from 1990 to 2017?\n",
    "    - There are 17 countries that had a negative percent change in gdp."
   ]
  },
  {
   "cell_type": "code",
   "execution_count": 96,
   "metadata": {},
   "outputs": [
    {
     "data": {
      "text/html": [
       "<div>\n",
       "<style scoped>\n",
       "    .dataframe tbody tr th:only-of-type {\n",
       "        vertical-align: middle;\n",
       "    }\n",
       "\n",
       "    .dataframe tbody tr th {\n",
       "        vertical-align: top;\n",
       "    }\n",
       "\n",
       "    .dataframe thead th {\n",
       "        text-align: right;\n",
       "    }\n",
       "</style>\n",
       "<table border=\"1\" class=\"dataframe\">\n",
       "  <thead>\n",
       "    <tr style=\"text-align: right;\">\n",
       "      <th>Year</th>\n",
       "      <th>1990</th>\n",
       "      <th>2017</th>\n",
       "      <th>Percent_Change</th>\n",
       "    </tr>\n",
       "    <tr>\n",
       "      <th>Country</th>\n",
       "      <th></th>\n",
       "      <th></th>\n",
       "      <th></th>\n",
       "    </tr>\n",
       "  </thead>\n",
       "  <tbody>\n",
       "    <tr>\n",
       "      <th>Dem. Rep. Congo</th>\n",
       "      <td>1819.723315</td>\n",
       "      <td>1059.810775</td>\n",
       "      <td>-41.759785</td>\n",
       "    </tr>\n",
       "    <tr>\n",
       "      <th>United Arab Emirates</th>\n",
       "      <td>111454.360446</td>\n",
       "      <td>67183.626557</td>\n",
       "      <td>-39.720953</td>\n",
       "    </tr>\n",
       "    <tr>\n",
       "      <th>Burundi</th>\n",
       "      <td>1184.842440</td>\n",
       "      <td>773.571858</td>\n",
       "      <td>-34.710993</td>\n",
       "    </tr>\n",
       "    <tr>\n",
       "      <th>Ukraine</th>\n",
       "      <td>15751.722440</td>\n",
       "      <td>11871.123624</td>\n",
       "      <td>-24.636028</td>\n",
       "    </tr>\n",
       "    <tr>\n",
       "      <th>Central African Republic</th>\n",
       "      <td>1201.677234</td>\n",
       "      <td>912.802052</td>\n",
       "      <td>-24.039332</td>\n",
       "    </tr>\n",
       "    <tr>\n",
       "      <th>Tajikistan</th>\n",
       "      <td>3869.043636</td>\n",
       "      <td>3089.530208</td>\n",
       "      <td>-20.147445</td>\n",
       "    </tr>\n",
       "    <tr>\n",
       "      <th>Gabon</th>\n",
       "      <td>18179.265733</td>\n",
       "      <td>15006.764091</td>\n",
       "      <td>-17.451209</td>\n",
       "    </tr>\n",
       "    <tr>\n",
       "      <th>Congo</th>\n",
       "      <td>5115.210903</td>\n",
       "      <td>4274.296414</td>\n",
       "      <td>-16.439488</td>\n",
       "    </tr>\n",
       "    <tr>\n",
       "      <th>Madagascar</th>\n",
       "      <td>1853.051624</td>\n",
       "      <td>1584.422678</td>\n",
       "      <td>-14.496571</td>\n",
       "    </tr>\n",
       "    <tr>\n",
       "      <th>Brunei</th>\n",
       "      <td>71230.862143</td>\n",
       "      <td>60995.681114</td>\n",
       "      <td>-14.369026</td>\n",
       "    </tr>\n",
       "    <tr>\n",
       "      <th>Zimbabwe</th>\n",
       "      <td>3324.348171</td>\n",
       "      <td>3028.245976</td>\n",
       "      <td>-8.907075</td>\n",
       "    </tr>\n",
       "    <tr>\n",
       "      <th>The Gambia</th>\n",
       "      <td>2265.238219</td>\n",
       "      <td>2072.652450</td>\n",
       "      <td>-8.501789</td>\n",
       "    </tr>\n",
       "    <tr>\n",
       "      <th>Haiti</th>\n",
       "      <td>3229.618638</td>\n",
       "      <td>2980.960856</td>\n",
       "      <td>-7.699292</td>\n",
       "    </tr>\n",
       "    <tr>\n",
       "      <th>The Bahamas</th>\n",
       "      <td>38099.848616</td>\n",
       "      <td>36297.307023</td>\n",
       "      <td>-4.731099</td>\n",
       "    </tr>\n",
       "    <tr>\n",
       "      <th>Guinea-Bissau</th>\n",
       "      <td>1994.669656</td>\n",
       "      <td>1925.237737</td>\n",
       "      <td>-3.480873</td>\n",
       "    </tr>\n",
       "    <tr>\n",
       "      <th>Kyrgyz Republic</th>\n",
       "      <td>5158.317569</td>\n",
       "      <td>5046.691535</td>\n",
       "      <td>-2.164001</td>\n",
       "    </tr>\n",
       "    <tr>\n",
       "      <th>Comoros</th>\n",
       "      <td>3061.360665</td>\n",
       "      <td>3032.254682</td>\n",
       "      <td>-0.950753</td>\n",
       "    </tr>\n",
       "  </tbody>\n",
       "</table>\n",
       "</div>"
      ],
      "text/plain": [
       "Year                               1990          2017  Percent_Change\n",
       "Country                                                              \n",
       "Dem. Rep. Congo             1819.723315   1059.810775      -41.759785\n",
       "United Arab Emirates      111454.360446  67183.626557      -39.720953\n",
       "Burundi                     1184.842440    773.571858      -34.710993\n",
       "Ukraine                    15751.722440  11871.123624      -24.636028\n",
       "Central African Republic    1201.677234    912.802052      -24.039332\n",
       "Tajikistan                  3869.043636   3089.530208      -20.147445\n",
       "Gabon                      18179.265733  15006.764091      -17.451209\n",
       "Congo                       5115.210903   4274.296414      -16.439488\n",
       "Madagascar                  1853.051624   1584.422678      -14.496571\n",
       "Brunei                     71230.862143  60995.681114      -14.369026\n",
       "Zimbabwe                    3324.348171   3028.245976       -8.907075\n",
       "The Gambia                  2265.238219   2072.652450       -8.501789\n",
       "Haiti                       3229.618638   2980.960856       -7.699292\n",
       "The Bahamas                38099.848616  36297.307023       -4.731099\n",
       "Guinea-Bissau               1994.669656   1925.237737       -3.480873\n",
       "Kyrgyz Republic             5158.317569   5046.691535       -2.164001\n",
       "Comoros                     3061.360665   3032.254682       -0.950753"
      ]
     },
     "execution_count": 96,
     "metadata": {},
     "output_type": "execute_result"
    }
   ],
   "source": [
    "gdp_pivoted.loc[gdp_pivoted['Percent_Change'] < 0].sort_values('Percent_Change')"
   ]
  },
  {
   "cell_type": "markdown",
   "metadata": {},
   "source": [
    "> Part 16\n",
    "- Which country had the highest % change in GDP per capita?\n",
    "    - Equatorial Guinea had the largest GDP % change\n",
    "- Create a line plot showing this country's GDP per capita for all years from 1990 to 2017. \n",
    "- Create another showing the country with the second highest % change in GDP. \n",
    "- How do the trends in these countries compare?  \n",
    "    > **Bonus:** Put both line charts on the same plot."
   ]
  },
  {
   "cell_type": "code",
   "execution_count": 97,
   "metadata": {},
   "outputs": [
    {
     "data": {
      "text/plain": [
       "Country\n",
       "Equatorial Guinea                              2068.404561\n",
       "China                                           907.406281\n",
       "Myanmar                                         664.939443\n",
       "East Asia & Pacific (excluding high income)     497.560254\n",
       "East Asia & Pacific (IDA & IBRD)                497.334945\n",
       "                                                  ...     \n",
       "Central African Republic                        -24.039332\n",
       "Ukraine                                         -24.636028\n",
       "Burundi                                         -34.710993\n",
       "United Arab Emirates                            -39.720953\n",
       "Dem. Rep. Congo                                 -41.759785\n",
       "Name: Percent_Change, Length: 207, dtype: float64"
      ]
     },
     "execution_count": 97,
     "metadata": {},
     "output_type": "execute_result"
    }
   ],
   "source": [
    "gdp_pivoted[\"Percent_Change\"].sort_values(ascending=False)\n",
    "\n",
    "#.head(n=2)"
   ]
  },
  {
   "cell_type": "code",
   "execution_count": 98,
   "metadata": {},
   "outputs": [
    {
     "data": {
      "text/plain": [
       "[<matplotlib.lines.Line2D at 0x7fae4505a700>]"
      ]
     },
     "execution_count": 98,
     "metadata": {},
     "output_type": "execute_result"
    },
    {
     "data": {
      "image/png": "[encoded data removed]",
      "text/plain": [
       "<Figure size 432x288 with 1 Axes>"
      ]
     },
     "metadata": {
      "needs_background": "light"
     },
     "output_type": "display_data"
    }
   ],
   "source": [
    "# Equatorial Guinea\n",
    "gdp_High = gdp_df.loc[gdp_df['Country'] == 'Equatorial Guinea']\n",
    "plt.plot(gdp_High[\"Year\"], gdp_High[\"GDP_Per_Capita\"])"
   ]
  },
  {
   "cell_type": "code",
   "execution_count": 99,
   "metadata": {},
   "outputs": [
    {
     "data": {
      "text/plain": [
       "[<matplotlib.lines.Line2D at 0x7fae4501d220>]"
      ]
     },
     "execution_count": 99,
     "metadata": {},
     "output_type": "execute_result"
    },
    {
     "data": {
      "image/png": "[encoded data removed]",
      "text/plain": [
       "<Figure size 432x288 with 1 Axes>"
      ]
     },
     "metadata": {
      "needs_background": "light"
     },
     "output_type": "display_data"
    }
   ],
   "source": [
    "# China\n",
    "gdp_High2 = gdp_df.loc[gdp_df['Country'] == 'China']\n",
    "\n",
    "plt.plot(gdp_High2[\"Year\"], gdp_High2[\"GDP_Per_Capita\"])"
   ]
  },
  {
   "cell_type": "code",
   "execution_count": 101,
   "metadata": {},
   "outputs": [],
   "source": [
    "# You may be on the wrong track here . . . leave the bonus alone for now.\n",
    "weird_gdp = [gdp_High] + [gdp_High2]\n",
    "# weirder_pivot = pd.pivot_table([weird_gdp], values='GDP_Per_Capita', index='Country', columns=\"Year\")"
   ]
  },
  {
   "cell_type": "code",
   "execution_count": null,
   "metadata": {},
   "outputs": [],
   "source": []
  }
 ],
 "metadata": {
  "kernelspec": {
   "display_name": "Python 3 (ipykernel)",
   "language": "python",
   "name": "python3"
  },
  "language_info": {
   "codemirror_mode": {
    "name": "ipython",
    "version": 3
   },
   "file_extension": ".py",
   "mimetype": "text/x-python",
   "name": "python",
   "nbconvert_exporter": "python",
   "pygments_lexer": "ipython3",
   "version": "3.9.12"
  },
  "vscode": {
   "interpreter": {
    "hash": "9cc0023dd0500ed28e67985b04469bb742c0f0e8caa05f7ee20bd154dec9a3ec"
   }
  }
 },
 "nbformat": 4,
 "nbformat_minor": 2
}
