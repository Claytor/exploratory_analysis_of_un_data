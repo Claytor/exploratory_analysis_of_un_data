{
 "cells": [
  {
   "cell_type": "markdown",
   "metadata": {},
   "source": [
    "Part 3\n",
    "- In the first cell of your notebook, import the required packages with their customary aliases"
   ]
  },
  {
   "cell_type": "code",
   "execution_count": 5,
   "metadata": {},
   "outputs": [],
   "source": [
    "# Import python packages\n",
    "import pandas as pd\n",
    "import numpy as np\n",
    "import matplotlib.pyplot as plt\n",
    "import seaborn as sns"
   ]
  },
  {
   "cell_type": "markdown",
   "metadata": {},
   "source": [
    "Part 4\n",
    "- The original csv had two rows attached to the bottom that contained an index.\n",
    "- The csv() call was modified by passing \"skipfooter_2\" to correct this issue. \n",
    "- The original csv file was not modified."
   ]
  },
  {
   "cell_type": "code",
   "execution_count": 6,
   "metadata": {},
   "outputs": [
    {
     "name": "stdout",
     "output_type": "stream",
     "text": [
      "     Country or Area  Year        Value  Value Footnotes\n",
      "0        Afghanistan  2019  2065.036398              NaN\n",
      "1        Afghanistan  2018  2033.779002              NaN\n",
      "2        Afghanistan  2017  2058.383832              NaN\n",
      "3        Afghanistan  2016  2057.062164              NaN\n",
      "4        Afghanistan  2015  2068.265904              NaN\n",
      "...              ...   ...          ...              ...\n",
      "6863        Zimbabwe  1994  3263.934978              NaN\n",
      "6864        Zimbabwe  1993  3033.504852              NaN\n",
      "6865        Zimbabwe  1992  3054.889178              NaN\n",
      "6866        Zimbabwe  1991  3426.598094              NaN\n",
      "6867        Zimbabwe  1990  3324.348171              NaN\n",
      "\n",
      "[6868 rows x 4 columns]\n"
     ]
    }
   ],
   "source": [
    "#Drop last two cells to remove index at bottom.\n",
    "gdp_df = pd.read_csv('../data/Undata.csv', \n",
    "    skipfooter=2, engine='python')\n",
    "print(gdp_df)"
   ]
  },
  {
   "cell_type": "markdown",
   "metadata": {},
   "source": [
    "Part 5\n",
    "- Drop the 'Value Footnotes' column, and rename the remaining columns to 'Country', 'Year', and 'GDP_Per_Capita'\n"
   ]
  },
  {
   "cell_type": "code",
   "execution_count": 7,
   "metadata": {},
   "outputs": [
    {
     "name": "stdout",
     "output_type": "stream",
     "text": [
      "       Country  Year  GDP_Per_Capita\n",
      "0  Afghanistan  2019     2065.036398\n"
     ]
    }
   ],
   "source": [
    "gdp_df = gdp_df.drop(columns = ['Value Footnotes'])\n",
    "gdp_df.columns = ['Country', 'Year', 'GDP_Per_Capita']\n",
    "print(gdp_df.head(n=1))"
   ]
  },
  {
   "cell_type": "markdown",
   "metadata": {},
   "source": [
    "Part 6\n",
    "- How many rows and columns does gdp_df have? What are the data types of its columns? If any of the columns are not the expected types, figure out why and fix it.\n",
    "    - There are 3 columns and 6868 rows. \n",
    "    - Dataypes are #0 - Object, #2 - int64, #3 - float64.\n",
    "    - I don't think there is anything wrong with Dypes."
   ]
  },
  {
   "cell_type": "code",
   "execution_count": 8,
   "metadata": {},
   "outputs": [
    {
     "name": "stdout",
     "output_type": "stream",
     "text": [
      "<class 'pandas.core.frame.DataFrame'>\n",
      "RangeIndex: 6868 entries, 0 to 6867\n",
      "Data columns (total 3 columns):\n",
      " #   Column          Non-Null Count  Dtype  \n",
      "---  ------          --------------  -----  \n",
      " 0   Country         6868 non-null   object \n",
      " 1   Year            6868 non-null   int64  \n",
      " 2   GDP_Per_Capita  6868 non-null   float64\n",
      "dtypes: float64(1), int64(1), object(1)\n",
      "memory usage: 161.1+ KB\n",
      "None\n"
     ]
    }
   ],
   "source": [
    "print(gdp_df.info())"
   ]
  },
  {
   "cell_type": "markdown",
   "metadata": {},
   "source": [
    "Part 7 \n",
    "- Which years are represented in this dataset? \n",
    "    - The years 1990 - 2017 are represented in the dataset.\n",
    "- Take a look at the number of observations per year. What do you notice?\n",
    "    - The number of observations per year seems to trend upward."
   ]
  },
  {
   "cell_type": "code",
   "execution_count": 9,
   "metadata": {},
   "outputs": [
    {
     "data": {
      "text/plain": [
       "2017    238\n",
       "2016    238\n",
       "2015    238\n",
       "2014    238\n",
       "2013    238\n",
       "2012    237\n",
       "2011    237\n",
       "2018    237\n",
       "2010    236\n",
       "2009    236\n",
       "2008    235\n",
       "2007    235\n",
       "2006    235\n",
       "2005    234\n",
       "2004    234\n",
       "2003    233\n",
       "2002    233\n",
       "2001    232\n",
       "2000    231\n",
       "2019    231\n",
       "1999    224\n",
       "1998    223\n",
       "1997    223\n",
       "1996    221\n",
       "1995    221\n",
       "1994    214\n",
       "1993    212\n",
       "1992    209\n",
       "1991    208\n",
       "1990    207\n",
       "Name: Year, dtype: int64"
      ]
     },
     "execution_count": 9,
     "metadata": {},
     "output_type": "execute_result"
    }
   ],
   "source": [
    "gdp_df[\"Year\"].value_counts()"
   ]
  },
  {
   "cell_type": "markdown",
   "metadata": {},
   "source": [
    "Part 8 \n",
    "- How many countries are represented in this dataset?\n",
    "    - There are 238 countries represented in the dataset.\n",
    "- Which countries are least represented in the dataset?\n",
    "    - Djibouti, Turks and Caicos Islands, Sint Maarten (Dutch part), Cayman Islands, and Nauru\n",
    "- Why do you think these countries have so few observations?\n",
    "    - Perhaps they have not been members of the UN as long as others."
   ]
  },
  {
   "cell_type": "code",
   "execution_count": 10,
   "metadata": {},
   "outputs": [
    {
     "data": {
      "text/plain": [
       "Lebanon                      30\n",
       "Middle income                30\n",
       "Morocco                      30\n",
       "Mozambique                   30\n",
       "Myanmar                      30\n",
       "                             ..\n",
       "Nauru                        16\n",
       "Cayman Islands               13\n",
       "Sint Maarten (Dutch part)    10\n",
       "Turks and Caicos Islands      9\n",
       "Djibouti                      7\n",
       "Name: Country, Length: 238, dtype: int64"
      ]
     },
     "execution_count": 10,
     "metadata": {},
     "output_type": "execute_result"
    }
   ],
   "source": [
    "gdp_df['Country'].value_counts()"
   ]
  },
  {
   "cell_type": "markdown",
   "metadata": {},
   "source": [
    "Part 9\n",
    "- Create a new dataframe by subsetting gdp_df to just the year 2014. Call this new dataframe gdp_2014."
   ]
  },
  {
   "cell_type": "code",
   "execution_count": 11,
   "metadata": {},
   "outputs": [
    {
     "name": "stdout",
     "output_type": "stream",
     "text": [
      "                  Country  Year  GDP_Per_Capita\n",
      "5             Afghanistan  2014     2102.385234\n",
      "23                Albania  2014    11623.866679\n",
      "53                Algeria  2014    11512.705405\n",
      "83                 Angola  2014     8239.828837\n",
      "113   Antigua and Barbuda  2014    18104.241470\n",
      "...                   ...   ...             ...\n",
      "6727              Vietnam  2014     6098.489609\n",
      "6757   West Bank and Gaza  2014     5967.073437\n",
      "6783                World  2014    15189.648507\n",
      "6813               Zambia  2014     3450.046561\n",
      "6843             Zimbabwe  2014     2955.240287\n",
      "\n",
      "[238 rows x 3 columns]\n"
     ]
    }
   ],
   "source": [
    "gdp_2014 = gdp_df.loc[gdp_df['Year'] == 2014]\n",
    "print(gdp_2014)"
   ]
  },
  {
   "cell_type": "markdown",
   "metadata": {},
   "source": [
    "Part 10\n",
    "- Use `.describe()` to find the summary statistics for GDP per capita in 2014. "
   ]
  },
  {
   "cell_type": "code",
   "execution_count": 12,
   "metadata": {},
   "outputs": [
    {
     "data": {
      "text/plain": [
       "count       238.000000\n",
       "mean      19766.710348\n",
       "std       20983.869623\n",
       "min         822.610458\n",
       "50%       12209.385755\n",
       "max      156514.133850\n",
       "Name: GDP_Per_Capita, dtype: float64"
      ]
     },
     "execution_count": 12,
     "metadata": {},
     "output_type": "execute_result"
    }
   ],
   "source": [
    "gdp_2014[\"GDP_Per_Capita\"].describe([])"
   ]
  },
  {
   "cell_type": "markdown",
   "metadata": {},
   "source": [
    "Part 11\n",
    "- Create a histogram of GDP Per Capita numbers for 2014 \n",
    "- How would you describe the shape of the distribution?\n",
    "    - The distribution appears to be skewed to the right"
   ]
  },
  {
   "cell_type": "code",
   "execution_count": 13,
   "metadata": {},
   "outputs": [
    {
     "data": {
      "image/png": "[encoded data removed]",
      "text/plain": [
       "<Figure size 432x288 with 1 Axes>"
      ]
     },
     "metadata": {
      "needs_background": "light"
     },
     "output_type": "display_data"
    }
   ],
   "source": [
    "gdp_2014[\"GDP_Per_Capita\"].hist(bins=15)\n",
    "plt.show()"
   ]
  },
  {
   "cell_type": "markdown",
   "metadata": {},
   "source": [
    "Part 12 - For GDP per capita in 2014 find:\n",
    "- Top 5 counties\n",
    "    - Macao SAR, China, Luxembourg, Qatar, Singapore, Bermuda\n",
    "- Bottom 5 countries\n",
    "    - Niger, Dem. Rep. Congo, Malawi, Burundi, Central African Republic"
   ]
  },
  {
   "cell_type": "code",
   "execution_count": 14,
   "metadata": {},
   "outputs": [
    {
     "name": "stdout",
     "output_type": "stream",
     "text": [
      "                       Country  Year  GDP_Per_Capita\n",
      "3721          Macao SAR, China  2014   156514.133850\n",
      "3691                Luxembourg  2014   108760.916030\n",
      "5138                     Qatar  2014    95578.416973\n",
      "5464                 Singapore  2014    87808.663157\n",
      "561                    Bermuda  2014    77361.104881\n",
      "...                        ...   ...             ...\n",
      "4528                     Niger  2014     1127.615541\n",
      "1422           Dem. Rep. Congo  2014     1029.790785\n",
      "3781                    Malawi  2014     1027.208496\n",
      "827                    Burundi  2014      886.235777\n",
      "1047  Central African Republic  2014      822.610458\n",
      "\n",
      "[238 rows x 3 columns]\n"
     ]
    }
   ],
   "source": [
    "print(gdp_2014.sort_values('GDP_Per_Capita', ascending=False))"
   ]
  },
  {
   "cell_type": "markdown",
   "metadata": {},
   "source": [
    "Part 13.\n",
    "- return to the full dataset, `gdp_df`. \n",
    "- Pivot the data for 1990 and 2017 (using the pandas `.pivot_table()` method or another method) so that: \n",
    "    - each row corresponds to a country\n",
    "    - each column corresponds to a year\n",
    "    - the values in the table give the GDP_Per_Capita amount. \n",
    "- Drop any rows that are missing values for either 1990 or 2017. \n",
    "- Save the result to a dataframe named `gdp_pivoted`."
   ]
  },
  {
   "cell_type": "code",
   "execution_count": 43,
   "metadata": {},
   "outputs": [
    {
     "name": "stdout",
     "output_type": "stream",
     "text": [
      "Year                         1990          2017\n",
      "Country                                        \n",
      "Albania               4842.734635  12811.759436\n",
      "Algeria               8746.352901  11737.409353\n",
      "Angola                5783.429064   7310.901738\n",
      "Antigua and Barbuda  15459.551675  19840.076123\n",
      "Arab World            9694.667544  14555.474921\n",
      "...                           ...           ...\n",
      "Vanuatu               2888.309393   3116.645194\n",
      "Vietnam               1673.249634   7155.745829\n",
      "World                 9680.269697  16253.385518\n",
      "Zambia                2190.182814   3485.005238\n",
      "Zimbabwe              3324.348171   3028.245976\n",
      "\n",
      "[207 rows x 2 columns]\n"
     ]
    }
   ],
   "source": [
    "# gdp_pivoted = gdp_df.loc[gdp_df['Year'].isin([1990, 2017])].pivot_table(values='GDP_Per_Capita', index='Country', columns=\"Year\").dropna()\n",
    "gdp_pivoted = [gdp_df.loc[gdp_df['Year'].isin([1990, 2017])].pivot_table(values='GDP_Per_Capita', index='Country', columns=\"Year\").dropna()]\n",
    "print(gdp_pivotet)"
   ]
  },
  {
   "cell_type": "markdown",
   "metadata": {},
   "source": [
    "Part 14. \n",
    "- Create a new column in `gdp_pivoted` named `Percent_Change`. This column should contain the percent change in GDP_Per_Capita from 1990 to 2017. Hint: Percent change is calculated as 100*(New Value - Old Value) / Old Value."
   ]
  },
  {
   "cell_type": "code",
   "execution_count": 45,
   "metadata": {},
   "outputs": [
    {
     "ename": "AttributeError",
     "evalue": "'list' object has no attribute 'head'",
     "output_type": "error",
     "traceback": [
      "\u001b[0;31m---------------------------------------------------------------------------\u001b[0m",
      "\u001b[0;31mAttributeError\u001b[0m                            Traceback (most recent call last)",
      "\u001b[1;32m/home/chunderdamus/Documents/NSS/NSS_Projects/un_data_question-Claytor/notebooks/UN Data Exploration.ipynb Cell 24\u001b[0m in \u001b[0;36m<cell line: 1>\u001b[0;34m()\u001b[0m\n\u001b[0;32m----> <a href='vscode-notebook-cell:/home/chunderdamus/Documents/NSS/NSS_Projects/un_data_question-Claytor/notebooks/UN%20Data%20Exploration.ipynb#X33sZmlsZQ%3D%3D?line=0'>1</a>\u001b[0m gdp_pivoted\u001b[39m.\u001b[39;49mhead()\n",
      "\u001b[0;31mAttributeError\u001b[0m: 'list' object has no attribute 'head'"
     ]
    }
   ],
   "source": [
    "gdp_pivoted[\"Percent_Change\"] = "
   ]
  }
 ],
 "metadata": {
  "kernelspec": {
   "display_name": "Python 3 (ipykernel)",
   "language": "python",
   "name": "python3"
  },
  "language_info": {
   "codemirror_mode": {
    "name": "ipython",
    "version": 3
   },
   "file_extension": ".py",
   "mimetype": "text/x-python",
   "name": "python",
   "nbconvert_exporter": "python",
   "pygments_lexer": "ipython3",
   "version": "3.9.12"
  },
  "vscode": {
   "interpreter": {
    "hash": "9cc0023dd0500ed28e67985b04469bb742c0f0e8caa05f7ee20bd154dec9a3ec"
   }
  }
 },
 "nbformat": 4,
 "nbformat_minor": 2
}
