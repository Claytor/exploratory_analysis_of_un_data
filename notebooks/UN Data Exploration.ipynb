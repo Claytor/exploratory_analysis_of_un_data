{
 "cells": [
  {
   "cell_type": "markdown",
   "metadata": {},
   "source": [
    "> Part 3\n",
    "- In the first cell of your notebook, import the required packages with their customary aliases"
   ]
  },
  {
   "cell_type": "code",
   "execution_count": 2,
   "metadata": {},
   "outputs": [],
   "source": [
    "# Import python packages\n",
    "import pandas as pd\n",
    "import numpy as np\n",
    "import matplotlib.pyplot as plt\n",
    "import seaborn as sns"
   ]
  },
  {
   "cell_type": "markdown",
   "metadata": {},
   "source": [
    "> Part 4\n",
    "- The original csv had two rows attached to the bottom that contained an index.\n",
    "- The csv() call was modified by passing \"skipfooter_2\" to correct this issue. \n",
    "- The original csv file was not modified."
   ]
  },
  {
   "cell_type": "code",
   "execution_count": 3,
   "metadata": {},
   "outputs": [
    {
     "name": "stdout",
     "output_type": "stream",
     "text": [
      "     Country or Area  Year        Value  Value Footnotes\n",
      "0        Afghanistan  2019  2065.036398              NaN\n",
      "1        Afghanistan  2018  2033.779002              NaN\n",
      "2        Afghanistan  2017  2058.383832              NaN\n",
      "3        Afghanistan  2016  2057.062164              NaN\n",
      "4        Afghanistan  2015  2068.265904              NaN\n",
      "...              ...   ...          ...              ...\n",
      "6863        Zimbabwe  1994  3263.934978              NaN\n",
      "6864        Zimbabwe  1993  3033.504852              NaN\n",
      "6865        Zimbabwe  1992  3054.889178              NaN\n",
      "6866        Zimbabwe  1991  3426.598094              NaN\n",
      "6867        Zimbabwe  1990  3324.348171              NaN\n",
      "\n",
      "[6868 rows x 4 columns]\n"
     ]
    }
   ],
   "source": [
    "#Drop last two cells to remove index at bottom.\n",
    "gdp_df = pd.read_csv('../data/Undata.csv', \n",
    "    skipfooter=2, engine='python')\n",
    "print(gdp_df)"
   ]
  },
  {
   "cell_type": "markdown",
   "metadata": {},
   "source": [
    ">  Part 5\n",
    "- Drop the 'Value Footnotes' column, and rename the remaining columns to 'Country', 'Year', and 'GDP_Per_Capita'\n"
   ]
  },
  {
   "cell_type": "code",
   "execution_count": 4,
   "metadata": {},
   "outputs": [
    {
     "name": "stdout",
     "output_type": "stream",
     "text": [
      "       Country  Year  GDP_Per_Capita\n",
      "0  Afghanistan  2019     2065.036398\n"
     ]
    }
   ],
   "source": [
    "gdp_df = gdp_df.drop(columns = ['Value Footnotes'])\n",
    "gdp_df.columns = ['Country', 'Year', 'GDP_Per_Capita']\n",
    "print(gdp_df.head(n=1))"
   ]
  },
  {
   "cell_type": "markdown",
   "metadata": {},
   "source": [
    "> Part 6\n",
    "- How many rows and columns does gdp_df have? What are the data types of its columns? If any of the columns are not the expected types, figure out why and fix it.\n",
    "    - There are 3 columns and 6868 rows. \n",
    "    - Dataypes are #0 - Object, #2 - int64, #3 - float64.\n",
    "    - I don't think there is anything wrong with Dypes."
   ]
  },
  {
   "cell_type": "code",
   "execution_count": 5,
   "metadata": {},
   "outputs": [
    {
     "name": "stdout",
     "output_type": "stream",
     "text": [
      "<class 'pandas.core.frame.DataFrame'>\n",
      "RangeIndex: 6868 entries, 0 to 6867\n",
      "Data columns (total 3 columns):\n",
      " #   Column          Non-Null Count  Dtype  \n",
      "---  ------          --------------  -----  \n",
      " 0   Country         6868 non-null   object \n",
      " 1   Year            6868 non-null   int64  \n",
      " 2   GDP_Per_Capita  6868 non-null   float64\n",
      "dtypes: float64(1), int64(1), object(1)\n",
      "memory usage: 161.1+ KB\n",
      "None\n"
     ]
    }
   ],
   "source": [
    "print(gdp_df.info())"
   ]
  },
  {
   "cell_type": "markdown",
   "metadata": {},
   "source": [
    "> Part 7 \n",
    "- Which years are represented in this dataset? \n",
    "    - The years 1990 - 2017 are represented in the dataset.\n",
    "- Take a look at the number of observations per year. What do you notice?\n",
    "    - The number of observations per year seems to trend upward."
   ]
  },
  {
   "cell_type": "code",
   "execution_count": 6,
   "metadata": {},
   "outputs": [
    {
     "data": {
      "text/plain": [
       "1990    207\n",
       "1991    208\n",
       "1992    209\n",
       "1993    212\n",
       "1994    214\n",
       "1995    221\n",
       "1996    221\n",
       "1997    223\n",
       "1998    223\n",
       "1999    224\n",
       "2000    231\n",
       "2001    232\n",
       "2002    233\n",
       "2003    233\n",
       "2004    234\n",
       "2005    234\n",
       "2006    235\n",
       "2007    235\n",
       "2008    235\n",
       "2009    236\n",
       "2010    236\n",
       "2011    237\n",
       "2012    237\n",
       "2013    238\n",
       "2014    238\n",
       "2015    238\n",
       "2016    238\n",
       "2017    238\n",
       "2018    237\n",
       "2019    231\n",
       "Name: Year, dtype: int64"
      ]
     },
     "execution_count": 6,
     "metadata": {},
     "output_type": "execute_result"
    }
   ],
   "source": [
    "gdp_df[\"Year\"].value_counts().sort_index()\n",
    "\n",
    "#.plot if your're feeling froggy"
   ]
  },
  {
   "cell_type": "markdown",
   "metadata": {},
   "source": [
    ">  Part 8 \n",
    "- How many countries are represented in this dataset?\n",
    "    - There are 238 countries represented in the dataset.\n",
    "- Which countries are least represented in the dataset?\n",
    "    - Djibouti, Turks and Caicos Islands, Sint Maarten (Dutch part), Cayman Islands, and Nauru\n",
    "- Why do you think these countries have so few observations?\n",
    "    - Perhaps they have not been members of the UN as long as others."
   ]
  },
  {
   "cell_type": "code",
   "execution_count": 7,
   "metadata": {},
   "outputs": [
    {
     "data": {
      "text/plain": [
       "Lebanon                      30\n",
       "Middle income                30\n",
       "Morocco                      30\n",
       "Mozambique                   30\n",
       "Myanmar                      30\n",
       "                             ..\n",
       "Nauru                        16\n",
       "Cayman Islands               13\n",
       "Sint Maarten (Dutch part)    10\n",
       "Turks and Caicos Islands      9\n",
       "Djibouti                      7\n",
       "Name: Country, Length: 238, dtype: int64"
      ]
     },
     "execution_count": 7,
     "metadata": {},
     "output_type": "execute_result"
    }
   ],
   "source": [
    "gdp_df['Country'].value_counts()"
   ]
  },
  {
   "cell_type": "markdown",
   "metadata": {},
   "source": [
    "> Part 9\n",
    "- Create a new dataframe by subsetting gdp_df to just the year 2014. Call this new dataframe gdp_2014."
   ]
  },
  {
   "cell_type": "code",
   "execution_count": 8,
   "metadata": {},
   "outputs": [
    {
     "name": "stdout",
     "output_type": "stream",
     "text": [
      "                  Country  Year  GDP_Per_Capita\n",
      "5             Afghanistan  2014     2102.385234\n",
      "23                Albania  2014    11623.866679\n",
      "53                Algeria  2014    11512.705405\n",
      "83                 Angola  2014     8239.828837\n",
      "113   Antigua and Barbuda  2014    18104.241470\n",
      "...                   ...   ...             ...\n",
      "6727              Vietnam  2014     6098.489609\n",
      "6757   West Bank and Gaza  2014     5967.073437\n",
      "6783                World  2014    15189.648507\n",
      "6813               Zambia  2014     3450.046561\n",
      "6843             Zimbabwe  2014     2955.240287\n",
      "\n",
      "[238 rows x 3 columns]\n"
     ]
    }
   ],
   "source": [
    "gdp_2014 = gdp_df.loc[gdp_df['Year'] == 2014]\n",
    "print(gdp_2014)"
   ]
  },
  {
   "cell_type": "markdown",
   "metadata": {},
   "source": [
    "> Part 10\n",
    "- Use `.describe()` to find the summary statistics for GDP per capita in 2014. "
   ]
  },
  {
   "cell_type": "code",
   "execution_count": 9,
   "metadata": {},
   "outputs": [
    {
     "data": {
      "text/plain": [
       "count       238.000000\n",
       "mean      19766.710348\n",
       "std       20983.869623\n",
       "min         822.610458\n",
       "25%        4753.110934\n",
       "50%       12209.385755\n",
       "75%       26803.610474\n",
       "max      156514.133850\n",
       "Name: GDP_Per_Capita, dtype: float64"
      ]
     },
     "execution_count": 9,
     "metadata": {},
     "output_type": "execute_result"
    }
   ],
   "source": [
    "gdp_2014[\"GDP_Per_Capita\"].describe()"
   ]
  },
  {
   "cell_type": "markdown",
   "metadata": {},
   "source": [
    "> Part 11\n",
    "- Create a histogram of GDP Per Capita numbers for 2014 \n",
    "- How would you describe the shape of the distribution?\n",
    "    - The distribution appears to be skewed to the right"
   ]
  },
  {
   "cell_type": "code",
   "execution_count": 10,
   "metadata": {},
   "outputs": [
    {
     "data": {
      "image/png": "[encoded data removed]",
      "text/plain": [
       "<Figure size 432x288 with 1 Axes>"
      ]
     },
     "metadata": {
      "needs_background": "light"
     },
     "output_type": "display_data"
    }
   ],
   "source": [
    "gdp_2014[\"GDP_Per_Capita\"].hist(bins=20);\n",
    "plt.show()"
   ]
  },
  {
   "cell_type": "markdown",
   "metadata": {},
   "source": [
    "> Part 12 \n",
    "- For GDP per capita in 2014 find:\n",
    "- Top 5 counties\n",
    "    - Macao SAR, China, Luxembourg, Qatar, Singapore, Bermuda\n",
    "- Bottom 5 countries\n",
    "    - Niger, Dem. Rep. Congo, Malawi, Burundi, Central African Republic"
   ]
  },
  {
   "cell_type": "code",
   "execution_count": 11,
   "metadata": {},
   "outputs": [
    {
     "data": {
      "text/html": [
       "<div>\n",
       "<style scoped>\n",
       "    .dataframe tbody tr th:only-of-type {\n",
       "        vertical-align: middle;\n",
       "    }\n",
       "\n",
       "    .dataframe tbody tr th {\n",
       "        vertical-align: top;\n",
       "    }\n",
       "\n",
       "    .dataframe thead th {\n",
       "        text-align: right;\n",
       "    }\n",
       "</style>\n",
       "<table border=\"1\" class=\"dataframe\">\n",
       "  <thead>\n",
       "    <tr style=\"text-align: right;\">\n",
       "      <th></th>\n",
       "      <th>Country</th>\n",
       "      <th>Year</th>\n",
       "      <th>GDP_Per_Capita</th>\n",
       "    </tr>\n",
       "  </thead>\n",
       "  <tbody>\n",
       "    <tr>\n",
       "      <th>3721</th>\n",
       "      <td>Macao SAR, China</td>\n",
       "      <td>2014</td>\n",
       "      <td>156514.133850</td>\n",
       "    </tr>\n",
       "    <tr>\n",
       "      <th>3691</th>\n",
       "      <td>Luxembourg</td>\n",
       "      <td>2014</td>\n",
       "      <td>108760.916030</td>\n",
       "    </tr>\n",
       "    <tr>\n",
       "      <th>5138</th>\n",
       "      <td>Qatar</td>\n",
       "      <td>2014</td>\n",
       "      <td>95578.416973</td>\n",
       "    </tr>\n",
       "    <tr>\n",
       "      <th>5464</th>\n",
       "      <td>Singapore</td>\n",
       "      <td>2014</td>\n",
       "      <td>87808.663157</td>\n",
       "    </tr>\n",
       "    <tr>\n",
       "      <th>561</th>\n",
       "      <td>Bermuda</td>\n",
       "      <td>2014</td>\n",
       "      <td>77361.104881</td>\n",
       "    </tr>\n",
       "    <tr>\n",
       "      <th>...</th>\n",
       "      <td>...</td>\n",
       "      <td>...</td>\n",
       "      <td>...</td>\n",
       "    </tr>\n",
       "    <tr>\n",
       "      <th>4528</th>\n",
       "      <td>Niger</td>\n",
       "      <td>2014</td>\n",
       "      <td>1127.615541</td>\n",
       "    </tr>\n",
       "    <tr>\n",
       "      <th>1422</th>\n",
       "      <td>Dem. Rep. Congo</td>\n",
       "      <td>2014</td>\n",
       "      <td>1029.790785</td>\n",
       "    </tr>\n",
       "    <tr>\n",
       "      <th>3781</th>\n",
       "      <td>Malawi</td>\n",
       "      <td>2014</td>\n",
       "      <td>1027.208496</td>\n",
       "    </tr>\n",
       "    <tr>\n",
       "      <th>827</th>\n",
       "      <td>Burundi</td>\n",
       "      <td>2014</td>\n",
       "      <td>886.235777</td>\n",
       "    </tr>\n",
       "    <tr>\n",
       "      <th>1047</th>\n",
       "      <td>Central African Republic</td>\n",
       "      <td>2014</td>\n",
       "      <td>822.610458</td>\n",
       "    </tr>\n",
       "  </tbody>\n",
       "</table>\n",
       "<p>238 rows × 3 columns</p>\n",
       "</div>"
      ],
      "text/plain": [
       "                       Country  Year  GDP_Per_Capita\n",
       "3721          Macao SAR, China  2014   156514.133850\n",
       "3691                Luxembourg  2014   108760.916030\n",
       "5138                     Qatar  2014    95578.416973\n",
       "5464                 Singapore  2014    87808.663157\n",
       "561                    Bermuda  2014    77361.104881\n",
       "...                        ...   ...             ...\n",
       "4528                     Niger  2014     1127.615541\n",
       "1422           Dem. Rep. Congo  2014     1029.790785\n",
       "3781                    Malawi  2014     1027.208496\n",
       "827                    Burundi  2014      886.235777\n",
       "1047  Central African Republic  2014      822.610458\n",
       "\n",
       "[238 rows x 3 columns]"
      ]
     },
     "execution_count": 11,
     "metadata": {},
     "output_type": "execute_result"
    }
   ],
   "source": [
    "#michael reccommends not using this method outside of the context of \n",
    "#this particular problem\n",
    "gdp_2014.sort_values('GDP_Per_Capita', ascending=False)"
   ]
  },
  {
   "cell_type": "markdown",
   "metadata": {},
   "source": [
    "> Part 13.\n",
    "- return to the full dataset, `gdp_df`. \n",
    "- Pivot the data for 1990 and 2017 (using the pandas `.pivot_table()` method or another method) so that: \n",
    "    - each row corresponds to a country\n",
    "    - each column corresponds to a year\n",
    "    - the values in the table give the GDP_Per_Capita amount. \n",
    "- Drop any rows that are missing values for either 1990 or 2017. \n",
    "- Save the result to a dataframe named `gdp_pivoted`."
   ]
  },
  {
   "cell_type": "code",
   "execution_count": 12,
   "metadata": {},
   "outputs": [],
   "source": [
    "#Michaels notes\n",
    "# be careful using .dropna().  It might cause more informatin to dissappear than you intended"
   ]
  },
  {
   "cell_type": "code",
   "execution_count": 13,
   "metadata": {},
   "outputs": [],
   "source": [
    "gdp_pivoted = (\n",
    "    gdp_df\n",
    "    .loc[gdp_df['Year'].isin([1990, 2017])]\n",
    "    .pivot_table(values = 'GDP_Per_Capita',\n",
    "                  index = 'Country',\n",
    "                  columns = 'Year')\n",
    "    .dropna()\n",
    ")"
   ]
  },
  {
   "cell_type": "markdown",
   "metadata": {},
   "source": [
    "# Part 14. \n",
    "- Create a new column in `gdp_pivoted` named `Percent_Change`. This column should contain the percent change in GDP_Per_Capita from 1990 to 2017. Hint: Percent change is calculated as 100*(New Value - Old Value) / Old Value."
   ]
  },
  {
   "cell_type": "code",
   "execution_count": 14,
   "metadata": {},
   "outputs": [
    {
     "data": {
      "text/html": [
       "<div>\n",
       "<style scoped>\n",
       "    .dataframe tbody tr th:only-of-type {\n",
       "        vertical-align: middle;\n",
       "    }\n",
       "\n",
       "    .dataframe tbody tr th {\n",
       "        vertical-align: top;\n",
       "    }\n",
       "\n",
       "    .dataframe thead th {\n",
       "        text-align: right;\n",
       "    }\n",
       "</style>\n",
       "<table border=\"1\" class=\"dataframe\">\n",
       "  <thead>\n",
       "    <tr style=\"text-align: right;\">\n",
       "      <th>Year</th>\n",
       "      <th>1990</th>\n",
       "      <th>2017</th>\n",
       "      <th>Percent_Change</th>\n",
       "    </tr>\n",
       "    <tr>\n",
       "      <th>Country</th>\n",
       "      <th></th>\n",
       "      <th></th>\n",
       "      <th></th>\n",
       "    </tr>\n",
       "  </thead>\n",
       "  <tbody>\n",
       "    <tr>\n",
       "      <th>Albania</th>\n",
       "      <td>4842.734635</td>\n",
       "      <td>12811.759436</td>\n",
       "      <td>164.556297</td>\n",
       "    </tr>\n",
       "    <tr>\n",
       "      <th>Algeria</th>\n",
       "      <td>8746.352901</td>\n",
       "      <td>11737.409353</td>\n",
       "      <td>34.197756</td>\n",
       "    </tr>\n",
       "    <tr>\n",
       "      <th>Angola</th>\n",
       "      <td>5783.429064</td>\n",
       "      <td>7310.901738</td>\n",
       "      <td>26.411194</td>\n",
       "    </tr>\n",
       "    <tr>\n",
       "      <th>Antigua and Barbuda</th>\n",
       "      <td>15459.551675</td>\n",
       "      <td>19840.076123</td>\n",
       "      <td>28.335391</td>\n",
       "    </tr>\n",
       "    <tr>\n",
       "      <th>Arab World</th>\n",
       "      <td>9694.667544</td>\n",
       "      <td>14555.474921</td>\n",
       "      <td>50.138980</td>\n",
       "    </tr>\n",
       "    <tr>\n",
       "      <th>...</th>\n",
       "      <td>...</td>\n",
       "      <td>...</td>\n",
       "      <td>...</td>\n",
       "    </tr>\n",
       "    <tr>\n",
       "      <th>Vanuatu</th>\n",
       "      <td>2888.309393</td>\n",
       "      <td>3116.645194</td>\n",
       "      <td>7.905517</td>\n",
       "    </tr>\n",
       "    <tr>\n",
       "      <th>Vietnam</th>\n",
       "      <td>1673.249634</td>\n",
       "      <td>7155.745829</td>\n",
       "      <td>327.655604</td>\n",
       "    </tr>\n",
       "    <tr>\n",
       "      <th>World</th>\n",
       "      <td>9680.269697</td>\n",
       "      <td>16253.385518</td>\n",
       "      <td>67.902197</td>\n",
       "    </tr>\n",
       "    <tr>\n",
       "      <th>Zambia</th>\n",
       "      <td>2190.182814</td>\n",
       "      <td>3485.005238</td>\n",
       "      <td>59.119377</td>\n",
       "    </tr>\n",
       "    <tr>\n",
       "      <th>Zimbabwe</th>\n",
       "      <td>3324.348171</td>\n",
       "      <td>3028.245976</td>\n",
       "      <td>-8.907075</td>\n",
       "    </tr>\n",
       "  </tbody>\n",
       "</table>\n",
       "<p>207 rows × 3 columns</p>\n",
       "</div>"
      ],
      "text/plain": [
       "Year                         1990          2017  Percent_Change\n",
       "Country                                                        \n",
       "Albania               4842.734635  12811.759436      164.556297\n",
       "Algeria               8746.352901  11737.409353       34.197756\n",
       "Angola                5783.429064   7310.901738       26.411194\n",
       "Antigua and Barbuda  15459.551675  19840.076123       28.335391\n",
       "Arab World            9694.667544  14555.474921       50.138980\n",
       "...                           ...           ...             ...\n",
       "Vanuatu               2888.309393   3116.645194        7.905517\n",
       "Vietnam               1673.249634   7155.745829      327.655604\n",
       "World                 9680.269697  16253.385518       67.902197\n",
       "Zambia                2190.182814   3485.005238       59.119377\n",
       "Zimbabwe              3324.348171   3028.245976       -8.907075\n",
       "\n",
       "[207 rows x 3 columns]"
      ]
     },
     "execution_count": 14,
     "metadata": {},
     "output_type": "execute_result"
    }
   ],
   "source": [
    "gdp_pivoted[\"Percent_Change\"] = 100*((gdp_pivoted[2017] - gdp_pivoted[1990]) / (gdp_pivoted [1990]))\n",
    "gdp_pivoted"
   ]
  },
  {
   "cell_type": "markdown",
   "metadata": {},
   "source": [
    "**Part 15.** \n",
    "How many countries experienced a negative percent change in GDP per capita from 1990 to 2017?\n",
    "- There are 17 countries that had a negative percent change in gdp."
   ]
  },
  {
   "cell_type": "code",
   "execution_count": 15,
   "metadata": {},
   "outputs": [
    {
     "data": {
      "text/html": [
       "<div>\n",
       "<style scoped>\n",
       "    .dataframe tbody tr th:only-of-type {\n",
       "        vertical-align: middle;\n",
       "    }\n",
       "\n",
       "    .dataframe tbody tr th {\n",
       "        vertical-align: top;\n",
       "    }\n",
       "\n",
       "    .dataframe thead th {\n",
       "        text-align: right;\n",
       "    }\n",
       "</style>\n",
       "<table border=\"1\" class=\"dataframe\">\n",
       "  <thead>\n",
       "    <tr style=\"text-align: right;\">\n",
       "      <th>Year</th>\n",
       "      <th>1990</th>\n",
       "      <th>2017</th>\n",
       "      <th>Percent_Change</th>\n",
       "    </tr>\n",
       "    <tr>\n",
       "      <th>Country</th>\n",
       "      <th></th>\n",
       "      <th></th>\n",
       "      <th></th>\n",
       "    </tr>\n",
       "  </thead>\n",
       "  <tbody>\n",
       "    <tr>\n",
       "      <th>Dem. Rep. Congo</th>\n",
       "      <td>1819.723315</td>\n",
       "      <td>1059.810775</td>\n",
       "      <td>-41.759785</td>\n",
       "    </tr>\n",
       "    <tr>\n",
       "      <th>United Arab Emirates</th>\n",
       "      <td>111454.360446</td>\n",
       "      <td>67183.626557</td>\n",
       "      <td>-39.720953</td>\n",
       "    </tr>\n",
       "    <tr>\n",
       "      <th>Burundi</th>\n",
       "      <td>1184.842440</td>\n",
       "      <td>773.571858</td>\n",
       "      <td>-34.710993</td>\n",
       "    </tr>\n",
       "    <tr>\n",
       "      <th>Ukraine</th>\n",
       "      <td>15751.722440</td>\n",
       "      <td>11871.123624</td>\n",
       "      <td>-24.636028</td>\n",
       "    </tr>\n",
       "    <tr>\n",
       "      <th>Central African Republic</th>\n",
       "      <td>1201.677234</td>\n",
       "      <td>912.802052</td>\n",
       "      <td>-24.039332</td>\n",
       "    </tr>\n",
       "    <tr>\n",
       "      <th>Tajikistan</th>\n",
       "      <td>3869.043636</td>\n",
       "      <td>3089.530208</td>\n",
       "      <td>-20.147445</td>\n",
       "    </tr>\n",
       "    <tr>\n",
       "      <th>Gabon</th>\n",
       "      <td>18179.265733</td>\n",
       "      <td>15006.764091</td>\n",
       "      <td>-17.451209</td>\n",
       "    </tr>\n",
       "    <tr>\n",
       "      <th>Congo</th>\n",
       "      <td>5115.210903</td>\n",
       "      <td>4274.296414</td>\n",
       "      <td>-16.439488</td>\n",
       "    </tr>\n",
       "    <tr>\n",
       "      <th>Madagascar</th>\n",
       "      <td>1853.051624</td>\n",
       "      <td>1584.422678</td>\n",
       "      <td>-14.496571</td>\n",
       "    </tr>\n",
       "    <tr>\n",
       "      <th>Brunei</th>\n",
       "      <td>71230.862143</td>\n",
       "      <td>60995.681114</td>\n",
       "      <td>-14.369026</td>\n",
       "    </tr>\n",
       "    <tr>\n",
       "      <th>Zimbabwe</th>\n",
       "      <td>3324.348171</td>\n",
       "      <td>3028.245976</td>\n",
       "      <td>-8.907075</td>\n",
       "    </tr>\n",
       "    <tr>\n",
       "      <th>The Gambia</th>\n",
       "      <td>2265.238219</td>\n",
       "      <td>2072.652450</td>\n",
       "      <td>-8.501789</td>\n",
       "    </tr>\n",
       "    <tr>\n",
       "      <th>Haiti</th>\n",
       "      <td>3229.618638</td>\n",
       "      <td>2980.960856</td>\n",
       "      <td>-7.699292</td>\n",
       "    </tr>\n",
       "    <tr>\n",
       "      <th>The Bahamas</th>\n",
       "      <td>38099.848616</td>\n",
       "      <td>36297.307023</td>\n",
       "      <td>-4.731099</td>\n",
       "    </tr>\n",
       "    <tr>\n",
       "      <th>Guinea-Bissau</th>\n",
       "      <td>1994.669656</td>\n",
       "      <td>1925.237737</td>\n",
       "      <td>-3.480873</td>\n",
       "    </tr>\n",
       "    <tr>\n",
       "      <th>Kyrgyz Republic</th>\n",
       "      <td>5158.317569</td>\n",
       "      <td>5046.691535</td>\n",
       "      <td>-2.164001</td>\n",
       "    </tr>\n",
       "    <tr>\n",
       "      <th>Comoros</th>\n",
       "      <td>3061.360665</td>\n",
       "      <td>3032.254682</td>\n",
       "      <td>-0.950753</td>\n",
       "    </tr>\n",
       "  </tbody>\n",
       "</table>\n",
       "</div>"
      ],
      "text/plain": [
       "Year                               1990          2017  Percent_Change\n",
       "Country                                                              \n",
       "Dem. Rep. Congo             1819.723315   1059.810775      -41.759785\n",
       "United Arab Emirates      111454.360446  67183.626557      -39.720953\n",
       "Burundi                     1184.842440    773.571858      -34.710993\n",
       "Ukraine                    15751.722440  11871.123624      -24.636028\n",
       "Central African Republic    1201.677234    912.802052      -24.039332\n",
       "Tajikistan                  3869.043636   3089.530208      -20.147445\n",
       "Gabon                      18179.265733  15006.764091      -17.451209\n",
       "Congo                       5115.210903   4274.296414      -16.439488\n",
       "Madagascar                  1853.051624   1584.422678      -14.496571\n",
       "Brunei                     71230.862143  60995.681114      -14.369026\n",
       "Zimbabwe                    3324.348171   3028.245976       -8.907075\n",
       "The Gambia                  2265.238219   2072.652450       -8.501789\n",
       "Haiti                       3229.618638   2980.960856       -7.699292\n",
       "The Bahamas                38099.848616  36297.307023       -4.731099\n",
       "Guinea-Bissau               1994.669656   1925.237737       -3.480873\n",
       "Kyrgyz Republic             5158.317569   5046.691535       -2.164001\n",
       "Comoros                     3061.360665   3032.254682       -0.950753"
      ]
     },
     "execution_count": 15,
     "metadata": {},
     "output_type": "execute_result"
    }
   ],
   "source": [
    "gdp_pivoted.loc[gdp_pivoted['Percent_Change'] < 0].sort_values('Percent_Change')"
   ]
  },
  {
   "cell_type": "markdown",
   "metadata": {},
   "source": [
    "> Part 16\n",
    "- Which country had the highest % change in GDP per capita?\n",
    "    - Equatorial Guinea had the largest GDP % change\n",
    "- Create a line plot showing this country's GDP per capita for all years from 1990 to 2017. \n",
    "- Create another showing the country with the second highest % change in GDP. \n",
    "- How do the trends in these countries compare?  \n",
    "    > **Bonus:** Put both line charts on the same plot."
   ]
  },
  {
   "cell_type": "code",
   "execution_count": 16,
   "metadata": {},
   "outputs": [
    {
     "data": {
      "text/plain": [
       "Country\n",
       "Equatorial Guinea                              2068.404561\n",
       "China                                           907.406281\n",
       "Myanmar                                         664.939443\n",
       "East Asia & Pacific (excluding high income)     497.560254\n",
       "East Asia & Pacific (IDA & IBRD)                497.334945\n",
       "Name: Percent_Change, dtype: float64"
      ]
     },
     "execution_count": 16,
     "metadata": {},
     "output_type": "execute_result"
    }
   ],
   "source": [
    "gdp_pivoted[\"Percent_Change\"].sort_values(ascending=False).head()\n",
    "\n",
    "#.head(n=2)"
   ]
  },
  {
   "cell_type": "code",
   "execution_count": 17,
   "metadata": {},
   "outputs": [
    {
     "data": {
      "text/plain": [
       "Text(0.5, 1.0, 'Equatorial Guinea')"
      ]
     },
     "execution_count": 17,
     "metadata": {},
     "output_type": "execute_result"
    },
    {
     "data": {
      "image/png": "[encoded data removed]",
      "text/plain": [
       "<Figure size 432x288 with 1 Axes>"
      ]
     },
     "metadata": {
      "needs_background": "light"
     },
     "output_type": "display_data"
    }
   ],
   "source": [
    "#here the country name is hardcoded.  see video \n",
    "# Equatorial Guinea\n",
    "gdp_High = gdp_df.loc[gdp_df['Country'] == 'Equatorial Guinea']\n",
    "plt.plot(gdp_High[\"Year\"], gdp_High[\"GDP_Per_Capita\"])\n",
    "plt.xlabel(\"Year\")\n",
    "plt.ylabel(\"GDP per Captia\")\n",
    "plt.title(\"Equatorial Guinea\")"
   ]
  },
  {
   "cell_type": "code",
   "execution_count": 18,
   "metadata": {
    "scrolled": true
   },
   "outputs": [
    {
     "data": {
      "text/plain": [
       "Text(0.5, 1.0, 'China')"
      ]
     },
     "execution_count": 18,
     "metadata": {},
     "output_type": "execute_result"
    },
    {
     "data": {
      "image/png": "[encoded data removed]",
      "text/plain": [
       "<Figure size 432x288 with 1 Axes>"
      ]
     },
     "metadata": {
      "needs_background": "light"
     },
     "output_type": "display_data"
    }
   ],
   "source": [
    "# China\n",
    "gdp_High2 = gdp_df.loc[gdp_df['Country'] == 'China']\n",
    "plt.plot(gdp_High2[\"Year\"], gdp_High2[\"GDP_Per_Capita\"])\n",
    "plt.xlabel(\"Year\")\n",
    "plt.ylabel(\"GDP per Captia\")\n",
    "plt.title(\"China\")"
   ]
  },
  {
   "cell_type": "markdown",
   "metadata": {},
   "source": [
    "### Part 17\n",
    "Read in continents.csv contained in the `data` folder into a new dataframe called `continents`. We will be using this dataframe to add a new column to our dataset."
   ]
  },
  {
   "cell_type": "code",
   "execution_count": 19,
   "metadata": {
    "scrolled": false
   },
   "outputs": [
    {
     "data": {
      "text/html": [
       "<div>\n",
       "<style scoped>\n",
       "    .dataframe tbody tr th:only-of-type {\n",
       "        vertical-align: middle;\n",
       "    }\n",
       "\n",
       "    .dataframe tbody tr th {\n",
       "        vertical-align: top;\n",
       "    }\n",
       "\n",
       "    .dataframe thead th {\n",
       "        text-align: right;\n",
       "    }\n",
       "</style>\n",
       "<table border=\"1\" class=\"dataframe\">\n",
       "  <thead>\n",
       "    <tr style=\"text-align: right;\">\n",
       "      <th></th>\n",
       "      <th>Continent</th>\n",
       "      <th>Country</th>\n",
       "    </tr>\n",
       "  </thead>\n",
       "  <tbody>\n",
       "    <tr>\n",
       "      <th>0</th>\n",
       "      <td>Asia</td>\n",
       "      <td>Afghanistan</td>\n",
       "    </tr>\n",
       "    <tr>\n",
       "      <th>1</th>\n",
       "      <td>Europe</td>\n",
       "      <td>Albania</td>\n",
       "    </tr>\n",
       "    <tr>\n",
       "      <th>2</th>\n",
       "      <td>Africa</td>\n",
       "      <td>Algeria</td>\n",
       "    </tr>\n",
       "    <tr>\n",
       "      <th>3</th>\n",
       "      <td>Europe</td>\n",
       "      <td>Andorra</td>\n",
       "    </tr>\n",
       "    <tr>\n",
       "      <th>4</th>\n",
       "      <td>Africa</td>\n",
       "      <td>Angola</td>\n",
       "    </tr>\n",
       "  </tbody>\n",
       "</table>\n",
       "</div>"
      ],
      "text/plain": [
       "  Continent      Country\n",
       "0      Asia  Afghanistan\n",
       "1    Europe      Albania\n",
       "2    Africa      Algeria\n",
       "3    Europe      Andorra\n",
       "4    Africa       Angola"
      ]
     },
     "execution_count": 19,
     "metadata": {},
     "output_type": "execute_result"
    }
   ],
   "source": [
    "continents = pd.read_csv('../data/continents.csv')\n",
    "continents.head()"
   ]
  },
  {
   "cell_type": "markdown",
   "metadata": {},
   "source": [
    "### Part 18\n",
    "- Merge gdp_df and continents. \n",
    "- Keep only the countries that appear in both data frames. \n",
    "- Save the result back to gdp_df."
   ]
  },
  {
   "cell_type": "code",
   "execution_count": 20,
   "metadata": {
    "scrolled": true
   },
   "outputs": [
    {
     "data": {
      "text/html": [
       "<div>\n",
       "<style scoped>\n",
       "    .dataframe tbody tr th:only-of-type {\n",
       "        vertical-align: middle;\n",
       "    }\n",
       "\n",
       "    .dataframe tbody tr th {\n",
       "        vertical-align: top;\n",
       "    }\n",
       "\n",
       "    .dataframe thead th {\n",
       "        text-align: right;\n",
       "    }\n",
       "</style>\n",
       "<table border=\"1\" class=\"dataframe\">\n",
       "  <thead>\n",
       "    <tr style=\"text-align: right;\">\n",
       "      <th></th>\n",
       "      <th>Continent</th>\n",
       "      <th>Country</th>\n",
       "      <th>Year</th>\n",
       "      <th>GDP_Per_Capita</th>\n",
       "    </tr>\n",
       "  </thead>\n",
       "  <tbody>\n",
       "    <tr>\n",
       "      <th>0</th>\n",
       "      <td>Asia</td>\n",
       "      <td>Afghanistan</td>\n",
       "      <td>2019</td>\n",
       "      <td>2065.036398</td>\n",
       "    </tr>\n",
       "    <tr>\n",
       "      <th>1</th>\n",
       "      <td>Asia</td>\n",
       "      <td>Afghanistan</td>\n",
       "      <td>2018</td>\n",
       "      <td>2033.779002</td>\n",
       "    </tr>\n",
       "    <tr>\n",
       "      <th>2</th>\n",
       "      <td>Asia</td>\n",
       "      <td>Afghanistan</td>\n",
       "      <td>2017</td>\n",
       "      <td>2058.383832</td>\n",
       "    </tr>\n",
       "    <tr>\n",
       "      <th>3</th>\n",
       "      <td>Asia</td>\n",
       "      <td>Afghanistan</td>\n",
       "      <td>2016</td>\n",
       "      <td>2057.062164</td>\n",
       "    </tr>\n",
       "    <tr>\n",
       "      <th>4</th>\n",
       "      <td>Asia</td>\n",
       "      <td>Afghanistan</td>\n",
       "      <td>2015</td>\n",
       "      <td>2068.265904</td>\n",
       "    </tr>\n",
       "    <tr>\n",
       "      <th>...</th>\n",
       "      <td>...</td>\n",
       "      <td>...</td>\n",
       "      <td>...</td>\n",
       "      <td>...</td>\n",
       "    </tr>\n",
       "    <tr>\n",
       "      <th>5438</th>\n",
       "      <td>Africa</td>\n",
       "      <td>Zimbabwe</td>\n",
       "      <td>1994</td>\n",
       "      <td>3263.934978</td>\n",
       "    </tr>\n",
       "    <tr>\n",
       "      <th>5439</th>\n",
       "      <td>Africa</td>\n",
       "      <td>Zimbabwe</td>\n",
       "      <td>1993</td>\n",
       "      <td>3033.504852</td>\n",
       "    </tr>\n",
       "    <tr>\n",
       "      <th>5440</th>\n",
       "      <td>Africa</td>\n",
       "      <td>Zimbabwe</td>\n",
       "      <td>1992</td>\n",
       "      <td>3054.889178</td>\n",
       "    </tr>\n",
       "    <tr>\n",
       "      <th>5441</th>\n",
       "      <td>Africa</td>\n",
       "      <td>Zimbabwe</td>\n",
       "      <td>1991</td>\n",
       "      <td>3426.598094</td>\n",
       "    </tr>\n",
       "    <tr>\n",
       "      <th>5442</th>\n",
       "      <td>Africa</td>\n",
       "      <td>Zimbabwe</td>\n",
       "      <td>1990</td>\n",
       "      <td>3324.348171</td>\n",
       "    </tr>\n",
       "  </tbody>\n",
       "</table>\n",
       "<p>5443 rows × 4 columns</p>\n",
       "</div>"
      ],
      "text/plain": [
       "     Continent      Country  Year  GDP_Per_Capita\n",
       "0         Asia  Afghanistan  2019     2065.036398\n",
       "1         Asia  Afghanistan  2018     2033.779002\n",
       "2         Asia  Afghanistan  2017     2058.383832\n",
       "3         Asia  Afghanistan  2016     2057.062164\n",
       "4         Asia  Afghanistan  2015     2068.265904\n",
       "...        ...          ...   ...             ...\n",
       "5438    Africa     Zimbabwe  1994     3263.934978\n",
       "5439    Africa     Zimbabwe  1993     3033.504852\n",
       "5440    Africa     Zimbabwe  1992     3054.889178\n",
       "5441    Africa     Zimbabwe  1991     3426.598094\n",
       "5442    Africa     Zimbabwe  1990     3324.348171\n",
       "\n",
       "[5443 rows x 4 columns]"
      ]
     },
     "execution_count": 20,
     "metadata": {},
     "output_type": "execute_result"
    }
   ],
   "source": [
    "gdp_df = pd.merge(left = continents, \n",
    "         right = gdp_df, \n",
    "         left_on = 'Country', \n",
    "         right_on = 'Country')\n",
    "gdp_df"
   ]
  },
  {
   "cell_type": "markdown",
   "metadata": {},
   "source": [
    "### Part 19. \n",
    "Determine the number of countries per continent. Create a bar chart showing this.\n",
    "- Africa: 49\n",
    "- Asia: 43\n",
    "- Europe: 45\n",
    "- North America: 26\n",
    "- Oceania: 14\n",
    "- South America: 11"
   ]
  },
  {
   "cell_type": "code",
   "execution_count": 21,
   "metadata": {},
   "outputs": [
    {
     "name": "stdout",
     "output_type": "stream",
     "text": [
      "Continent\n",
      "Africa           49\n",
      "Asia             43\n",
      "Europe           45\n",
      "North America    26\n",
      "Oceania          14\n",
      "South America    11\n",
      "Name: Country, dtype: int64\n"
     ]
    }
   ],
   "source": [
    "CPC = gdp_df.groupby('Continent')['Country'].nunique()\n",
    "print(CPC)"
   ]
  },
  {
   "cell_type": "code",
   "execution_count": 22,
   "metadata": {},
   "outputs": [
    {
     "data": {
      "text/plain": [
       "(array([0, 1, 2, 3, 4, 5]),\n",
       " [Text(0, 0, 'Africa'),\n",
       "  Text(1, 0, 'Asia'),\n",
       "  Text(2, 0, 'Europe'),\n",
       "  Text(3, 0, 'North America'),\n",
       "  Text(4, 0, 'Oceania'),\n",
       "  Text(5, 0, 'South America')])"
      ]
     },
     "execution_count": 22,
     "metadata": {},
     "output_type": "execute_result"
    },
    {
     "data": {
      "image/png": "[encoded data removed]",
      "text/plain": [
       "<Figure size 432x288 with 1 Axes>"
      ]
     },
     "metadata": {
      "needs_background": "light"
     },
     "output_type": "display_data"
    }
   ],
   "source": [
    "CPC.plot(kind = 'bar');\n",
    "plt.xlabel(\"Continents\")\n",
    "plt.ylabel(\"Country Count\")\n",
    "plt.title(\"Number of Countries per Continent\")\n",
    "plt.legend()\n",
    "plt.xticks(rotation=45)"
   ]
  },
  {
   "cell_type": "markdown",
   "metadata": {},
   "source": [
    "**Part 20** Create a seaborn boxplot showing GDP per capita in 2014 split out by continent. What do you notice?\n",
    "- In Asia, during 2014, there seems to be a larger group of countries who's upper GDP are statistical outliers.  There also appear to be outliers among the outliers of Asian countries in terms of GDP."
   ]
  },
  {
   "cell_type": "code",
   "execution_count": 23,
   "metadata": {},
   "outputs": [
    {
     "data": {
      "text/plain": [
       "Continent      Country     \n",
       "Africa         Algeria         11512.705405\n",
       "               Angola           8239.828837\n",
       "               Benin            2975.853914\n",
       "               Botswana        17264.437133\n",
       "               Burkina Faso     1907.950515\n",
       "                                   ...     \n",
       "South America  Guyana          11244.312669\n",
       "               Paraguay        11612.389911\n",
       "               Peru            11877.084063\n",
       "               Suriname        18187.183961\n",
       "               Uruguay         20582.168953\n",
       "Length: 188, dtype: float64"
      ]
     },
     "execution_count": 23,
     "metadata": {},
     "output_type": "execute_result"
    }
   ],
   "source": [
    "SNSBox = gdp_df #.set_index(\"Continent\")\n",
    "(SNSBox[SNSBox['Year'].isin([2014])]).pivot_table(values='GDP_Per_Capita', index='Continent', columns=\"Country\", margins_name=\"all\").stack().dropna()\n"
   ]
  },
  {
   "cell_type": "code",
   "execution_count": 24,
   "metadata": {},
   "outputs": [
    {
     "data": {
      "image/png": "[encoded data removed]",
      "text/plain": [
       "<Figure size 576x432 with 1 Axes>"
      ]
     },
     "metadata": {
      "needs_background": "light"
     },
     "output_type": "display_data"
    }
   ],
   "source": [
    "fig, ax = plt.subplots(figsize = (8,6))\n",
    "\n",
    "sns.boxplot(x = SNSBox[\"Continent\"], y = SNSBox['GDP_Per_Capita']);\n",
    "plt.ylabel(\"2014 GDP Per Capita\")\n",
    "plt.xticks(rotation=45)\n",
    "plt.grid()"
   ]
  },
  {
   "cell_type": "markdown",
   "metadata": {},
   "source": [
    "**Part 21**\n",
    "Download the full csv containing Life expectancy at birth, total (years) from [https://data.worldbank.org/indicator/SP.DYN.LE00.IN?name_desc=false](https://data.worldbank.org/indicator/SP.DYN.LE00.IN?name_desc=false). Read this data into a DataFrame named `life_expectancy`."
   ]
  },
  {
   "cell_type": "code",
   "execution_count": 25,
   "metadata": {
    "scrolled": true
   },
   "outputs": [],
   "source": [
    "life_expectancy = (\n",
    "    pd.read_csv(\n",
    "        '../data/life_expectancy.csv',\n",
    "        header = 2)\n",
    ")"
   ]
  },
  {
   "cell_type": "code",
   "execution_count": 26,
   "metadata": {},
   "outputs": [
    {
     "data": {
      "text/html": [
       "<div>\n",
       "<style scoped>\n",
       "    .dataframe tbody tr th:only-of-type {\n",
       "        vertical-align: middle;\n",
       "    }\n",
       "\n",
       "    .dataframe tbody tr th {\n",
       "        vertical-align: top;\n",
       "    }\n",
       "\n",
       "    .dataframe thead th {\n",
       "        text-align: right;\n",
       "    }\n",
       "</style>\n",
       "<table border=\"1\" class=\"dataframe\">\n",
       "  <thead>\n",
       "    <tr style=\"text-align: right;\">\n",
       "      <th></th>\n",
       "      <th>Country Name</th>\n",
       "      <th>Country Code</th>\n",
       "      <th>Indicator Name</th>\n",
       "      <th>Indicator Code</th>\n",
       "      <th>1960</th>\n",
       "      <th>1961</th>\n",
       "      <th>1962</th>\n",
       "      <th>1963</th>\n",
       "      <th>1964</th>\n",
       "      <th>1965</th>\n",
       "      <th>...</th>\n",
       "      <th>2013</th>\n",
       "      <th>2014</th>\n",
       "      <th>2015</th>\n",
       "      <th>2016</th>\n",
       "      <th>2017</th>\n",
       "      <th>2018</th>\n",
       "      <th>2019</th>\n",
       "      <th>2020</th>\n",
       "      <th>2021</th>\n",
       "      <th>Unnamed: 66</th>\n",
       "    </tr>\n",
       "  </thead>\n",
       "  <tbody>\n",
       "    <tr>\n",
       "      <th>0</th>\n",
       "      <td>Aruba</td>\n",
       "      <td>ABW</td>\n",
       "      <td>Life expectancy at birth, total (years)</td>\n",
       "      <td>SP.DYN.LE00.IN</td>\n",
       "      <td>65.662000</td>\n",
       "      <td>66.074000</td>\n",
       "      <td>66.444000</td>\n",
       "      <td>66.787000</td>\n",
       "      <td>67.113000</td>\n",
       "      <td>67.435000</td>\n",
       "      <td>...</td>\n",
       "      <td>75.441000</td>\n",
       "      <td>75.583000</td>\n",
       "      <td>75.725000</td>\n",
       "      <td>75.868000</td>\n",
       "      <td>76.010000</td>\n",
       "      <td>76.152000</td>\n",
       "      <td>76.293000</td>\n",
       "      <td>76.434000</td>\n",
       "      <td>NaN</td>\n",
       "      <td>NaN</td>\n",
       "    </tr>\n",
       "    <tr>\n",
       "      <th>1</th>\n",
       "      <td>Africa Eastern and Southern</td>\n",
       "      <td>AFE</td>\n",
       "      <td>Life expectancy at birth, total (years)</td>\n",
       "      <td>SP.DYN.LE00.IN</td>\n",
       "      <td>42.716053</td>\n",
       "      <td>43.166935</td>\n",
       "      <td>43.603990</td>\n",
       "      <td>44.025617</td>\n",
       "      <td>44.432721</td>\n",
       "      <td>44.826919</td>\n",
       "      <td>...</td>\n",
       "      <td>60.953363</td>\n",
       "      <td>61.647367</td>\n",
       "      <td>62.259288</td>\n",
       "      <td>62.787681</td>\n",
       "      <td>63.246264</td>\n",
       "      <td>63.648988</td>\n",
       "      <td>64.005213</td>\n",
       "      <td>64.325702</td>\n",
       "      <td>NaN</td>\n",
       "      <td>NaN</td>\n",
       "    </tr>\n",
       "    <tr>\n",
       "      <th>2</th>\n",
       "      <td>Afghanistan</td>\n",
       "      <td>AFG</td>\n",
       "      <td>Life expectancy at birth, total (years)</td>\n",
       "      <td>SP.DYN.LE00.IN</td>\n",
       "      <td>32.446000</td>\n",
       "      <td>32.962000</td>\n",
       "      <td>33.471000</td>\n",
       "      <td>33.971000</td>\n",
       "      <td>34.463000</td>\n",
       "      <td>34.948000</td>\n",
       "      <td>...</td>\n",
       "      <td>62.525000</td>\n",
       "      <td>62.966000</td>\n",
       "      <td>63.377000</td>\n",
       "      <td>63.763000</td>\n",
       "      <td>64.130000</td>\n",
       "      <td>64.486000</td>\n",
       "      <td>64.833000</td>\n",
       "      <td>65.173000</td>\n",
       "      <td>NaN</td>\n",
       "      <td>NaN</td>\n",
       "    </tr>\n",
       "    <tr>\n",
       "      <th>3</th>\n",
       "      <td>Africa Western and Central</td>\n",
       "      <td>AFW</td>\n",
       "      <td>Life expectancy at birth, total (years)</td>\n",
       "      <td>SP.DYN.LE00.IN</td>\n",
       "      <td>37.205380</td>\n",
       "      <td>37.632546</td>\n",
       "      <td>38.052612</td>\n",
       "      <td>38.463746</td>\n",
       "      <td>38.867073</td>\n",
       "      <td>39.264841</td>\n",
       "      <td>...</td>\n",
       "      <td>55.618986</td>\n",
       "      <td>56.088269</td>\n",
       "      <td>56.542009</td>\n",
       "      <td>56.974761</td>\n",
       "      <td>57.382363</td>\n",
       "      <td>57.762347</td>\n",
       "      <td>58.115723</td>\n",
       "      <td>58.445953</td>\n",
       "      <td>NaN</td>\n",
       "      <td>NaN</td>\n",
       "    </tr>\n",
       "    <tr>\n",
       "      <th>4</th>\n",
       "      <td>Angola</td>\n",
       "      <td>AGO</td>\n",
       "      <td>Life expectancy at birth, total (years)</td>\n",
       "      <td>SP.DYN.LE00.IN</td>\n",
       "      <td>37.524000</td>\n",
       "      <td>37.811000</td>\n",
       "      <td>38.113000</td>\n",
       "      <td>38.430000</td>\n",
       "      <td>38.760000</td>\n",
       "      <td>39.102000</td>\n",
       "      <td>...</td>\n",
       "      <td>58.054000</td>\n",
       "      <td>58.776000</td>\n",
       "      <td>59.398000</td>\n",
       "      <td>59.925000</td>\n",
       "      <td>60.379000</td>\n",
       "      <td>60.782000</td>\n",
       "      <td>61.147000</td>\n",
       "      <td>61.487000</td>\n",
       "      <td>NaN</td>\n",
       "      <td>NaN</td>\n",
       "    </tr>\n",
       "  </tbody>\n",
       "</table>\n",
       "<p>5 rows × 67 columns</p>\n",
       "</div>"
      ],
      "text/plain": [
       "                  Country Name Country Code  \\\n",
       "0                        Aruba          ABW   \n",
       "1  Africa Eastern and Southern          AFE   \n",
       "2                  Afghanistan          AFG   \n",
       "3   Africa Western and Central          AFW   \n",
       "4                       Angola          AGO   \n",
       "\n",
       "                            Indicator Name  Indicator Code       1960  \\\n",
       "0  Life expectancy at birth, total (years)  SP.DYN.LE00.IN  65.662000   \n",
       "1  Life expectancy at birth, total (years)  SP.DYN.LE00.IN  42.716053   \n",
       "2  Life expectancy at birth, total (years)  SP.DYN.LE00.IN  32.446000   \n",
       "3  Life expectancy at birth, total (years)  SP.DYN.LE00.IN  37.205380   \n",
       "4  Life expectancy at birth, total (years)  SP.DYN.LE00.IN  37.524000   \n",
       "\n",
       "        1961       1962       1963       1964       1965  ...       2013  \\\n",
       "0  66.074000  66.444000  66.787000  67.113000  67.435000  ...  75.441000   \n",
       "1  43.166935  43.603990  44.025617  44.432721  44.826919  ...  60.953363   \n",
       "2  32.962000  33.471000  33.971000  34.463000  34.948000  ...  62.525000   \n",
       "3  37.632546  38.052612  38.463746  38.867073  39.264841  ...  55.618986   \n",
       "4  37.811000  38.113000  38.430000  38.760000  39.102000  ...  58.054000   \n",
       "\n",
       "        2014       2015       2016       2017       2018       2019  \\\n",
       "0  75.583000  75.725000  75.868000  76.010000  76.152000  76.293000   \n",
       "1  61.647367  62.259288  62.787681  63.246264  63.648988  64.005213   \n",
       "2  62.966000  63.377000  63.763000  64.130000  64.486000  64.833000   \n",
       "3  56.088269  56.542009  56.974761  57.382363  57.762347  58.115723   \n",
       "4  58.776000  59.398000  59.925000  60.379000  60.782000  61.147000   \n",
       "\n",
       "        2020  2021  Unnamed: 66  \n",
       "0  76.434000   NaN          NaN  \n",
       "1  64.325702   NaN          NaN  \n",
       "2  65.173000   NaN          NaN  \n",
       "3  58.445953   NaN          NaN  \n",
       "4  61.487000   NaN          NaN  \n",
       "\n",
       "[5 rows x 67 columns]"
      ]
     },
     "execution_count": 26,
     "metadata": {},
     "output_type": "execute_result"
    }
   ],
   "source": [
    "life_expectancy.head()"
   ]
  },
  {
   "cell_type": "markdown",
   "metadata": {},
   "source": [
    "**Part 22.**\n",
    "Drop the Country Code, Indicator Name, and Indicator Code columns. Then use `.melt()` to convert your data from wide to long. That is, instead of having one row per country and multiple colums per year, we want to have multiple rows per country and a single column for year. After melting, rename the columns to `Country`, `Year`, and `Life_Expectancy`."
   ]
  },
  {
   "cell_type": "code",
   "execution_count": 27,
   "metadata": {
    "scrolled": true
   },
   "outputs": [
    {
     "data": {
      "text/html": [
       "<div>\n",
       "<style scoped>\n",
       "    .dataframe tbody tr th:only-of-type {\n",
       "        vertical-align: middle;\n",
       "    }\n",
       "\n",
       "    .dataframe tbody tr th {\n",
       "        vertical-align: top;\n",
       "    }\n",
       "\n",
       "    .dataframe thead th {\n",
       "        text-align: right;\n",
       "    }\n",
       "</style>\n",
       "<table border=\"1\" class=\"dataframe\">\n",
       "  <thead>\n",
       "    <tr style=\"text-align: right;\">\n",
       "      <th></th>\n",
       "      <th>Country</th>\n",
       "      <th>Year</th>\n",
       "      <th>Life_Expectancy</th>\n",
       "    </tr>\n",
       "  </thead>\n",
       "  <tbody>\n",
       "    <tr>\n",
       "      <th>0</th>\n",
       "      <td>Aruba</td>\n",
       "      <td>1960</td>\n",
       "      <td>65.662000</td>\n",
       "    </tr>\n",
       "    <tr>\n",
       "      <th>1</th>\n",
       "      <td>Africa Eastern and Southern</td>\n",
       "      <td>1960</td>\n",
       "      <td>42.716053</td>\n",
       "    </tr>\n",
       "    <tr>\n",
       "      <th>2</th>\n",
       "      <td>Afghanistan</td>\n",
       "      <td>1960</td>\n",
       "      <td>32.446000</td>\n",
       "    </tr>\n",
       "    <tr>\n",
       "      <th>3</th>\n",
       "      <td>Africa Western and Central</td>\n",
       "      <td>1960</td>\n",
       "      <td>37.205380</td>\n",
       "    </tr>\n",
       "    <tr>\n",
       "      <th>4</th>\n",
       "      <td>Angola</td>\n",
       "      <td>1960</td>\n",
       "      <td>37.524000</td>\n",
       "    </tr>\n",
       "  </tbody>\n",
       "</table>\n",
       "</div>"
      ],
      "text/plain": [
       "                       Country  Year  Life_Expectancy\n",
       "0                        Aruba  1960        65.662000\n",
       "1  Africa Eastern and Southern  1960        42.716053\n",
       "2                  Afghanistan  1960        32.446000\n",
       "3   Africa Western and Central  1960        37.205380\n",
       "4                       Angola  1960        37.524000"
      ]
     },
     "execution_count": 27,
     "metadata": {},
     "output_type": "execute_result"
    }
   ],
   "source": [
    "life_expectancy = (\n",
    "    life_expectancy\n",
    "        .drop(columns = [\n",
    "            'Country Code',\n",
    "            'Indicator Name',\n",
    "            'Indicator Code'])\n",
    "        .melt(\n",
    "            id_vars = 'Country Name',\n",
    "            var_name = 'Year',\n",
    "            value_name = 'life_expectancy')\n",
    "        .rename(\n",
    "            columns = {\n",
    "                'Country Name' : 'Country',\n",
    "                'Year' : 'Year',\n",
    "                'life_expectancy' : 'Life_Expectancy'})\n",
    "        .dropna())\n",
    "life_expectancy.head()"
   ]
  },
  {
   "cell_type": "code",
   "execution_count": 28,
   "metadata": {},
   "outputs": [
    {
     "data": {
      "text/html": [
       "<div>\n",
       "<style scoped>\n",
       "    .dataframe tbody tr th:only-of-type {\n",
       "        vertical-align: middle;\n",
       "    }\n",
       "\n",
       "    .dataframe tbody tr th {\n",
       "        vertical-align: top;\n",
       "    }\n",
       "\n",
       "    .dataframe thead th {\n",
       "        text-align: right;\n",
       "    }\n",
       "</style>\n",
       "<table border=\"1\" class=\"dataframe\">\n",
       "  <thead>\n",
       "    <tr style=\"text-align: right;\">\n",
       "      <th></th>\n",
       "      <th>Country</th>\n",
       "      <th>Year</th>\n",
       "      <th>Life_Expectancy</th>\n",
       "    </tr>\n",
       "  </thead>\n",
       "  <tbody>\n",
       "    <tr>\n",
       "      <th>9695</th>\n",
       "      <td>Japan</td>\n",
       "      <td>1996</td>\n",
       "      <td>80.200244</td>\n",
       "    </tr>\n",
       "    <tr>\n",
       "      <th>9938</th>\n",
       "      <td>Hong Kong SAR, China</td>\n",
       "      <td>1997</td>\n",
       "      <td>80.126829</td>\n",
       "    </tr>\n",
       "    <tr>\n",
       "      <th>9961</th>\n",
       "      <td>Japan</td>\n",
       "      <td>1997</td>\n",
       "      <td>80.424146</td>\n",
       "    </tr>\n",
       "    <tr>\n",
       "      <th>10204</th>\n",
       "      <td>Hong Kong SAR, China</td>\n",
       "      <td>1998</td>\n",
       "      <td>80.131707</td>\n",
       "    </tr>\n",
       "    <tr>\n",
       "      <th>10227</th>\n",
       "      <td>Japan</td>\n",
       "      <td>1998</td>\n",
       "      <td>80.501463</td>\n",
       "    </tr>\n",
       "  </tbody>\n",
       "</table>\n",
       "</div>"
      ],
      "text/plain": [
       "                    Country  Year  Life_Expectancy\n",
       "9695                  Japan  1996        80.200244\n",
       "9938   Hong Kong SAR, China  1997        80.126829\n",
       "9961                  Japan  1997        80.424146\n",
       "10204  Hong Kong SAR, China  1998        80.131707\n",
       "10227                 Japan  1998        80.501463"
      ]
     },
     "execution_count": 28,
     "metadata": {},
     "output_type": "execute_result"
    }
   ],
   "source": [
    "life_expectancy[life_expectancy['Life_Expectancy'] > 80].sort_values('Year').head()"
   ]
  },
  {
   "cell_type": "markdown",
   "metadata": {},
   "source": [
    "**Part 23.** What was the first country with a life expectancy to exceed 80?\n",
    "- Japan"
   ]
  },
  {
   "cell_type": "code",
   "execution_count": 29,
   "metadata": {},
   "outputs": [
    {
     "data": {
      "text/html": [
       "<div>\n",
       "<style scoped>\n",
       "    .dataframe tbody tr th:only-of-type {\n",
       "        vertical-align: middle;\n",
       "    }\n",
       "\n",
       "    .dataframe tbody tr th {\n",
       "        vertical-align: top;\n",
       "    }\n",
       "\n",
       "    .dataframe thead th {\n",
       "        text-align: right;\n",
       "    }\n",
       "</style>\n",
       "<table border=\"1\" class=\"dataframe\">\n",
       "  <thead>\n",
       "    <tr style=\"text-align: right;\">\n",
       "      <th></th>\n",
       "      <th>Country</th>\n",
       "      <th>Year</th>\n",
       "      <th>Life_Expectancy</th>\n",
       "    </tr>\n",
       "  </thead>\n",
       "  <tbody>\n",
       "    <tr>\n",
       "      <th>9695</th>\n",
       "      <td>Japan</td>\n",
       "      <td>1996</td>\n",
       "      <td>80.200244</td>\n",
       "    </tr>\n",
       "    <tr>\n",
       "      <th>9938</th>\n",
       "      <td>Hong Kong SAR, China</td>\n",
       "      <td>1997</td>\n",
       "      <td>80.126829</td>\n",
       "    </tr>\n",
       "    <tr>\n",
       "      <th>9961</th>\n",
       "      <td>Japan</td>\n",
       "      <td>1997</td>\n",
       "      <td>80.424146</td>\n",
       "    </tr>\n",
       "    <tr>\n",
       "      <th>10204</th>\n",
       "      <td>Hong Kong SAR, China</td>\n",
       "      <td>1998</td>\n",
       "      <td>80.131707</td>\n",
       "    </tr>\n",
       "    <tr>\n",
       "      <th>10227</th>\n",
       "      <td>Japan</td>\n",
       "      <td>1998</td>\n",
       "      <td>80.501463</td>\n",
       "    </tr>\n",
       "    <tr>\n",
       "      <th>...</th>\n",
       "      <td>...</td>\n",
       "      <td>...</td>\n",
       "      <td>...</td>\n",
       "    </tr>\n",
       "    <tr>\n",
       "      <th>16037</th>\n",
       "      <td>France</td>\n",
       "      <td>2020</td>\n",
       "      <td>82.175610</td>\n",
       "    </tr>\n",
       "    <tr>\n",
       "      <th>16038</th>\n",
       "      <td>Faroe Islands</td>\n",
       "      <td>2020</td>\n",
       "      <td>83.092683</td>\n",
       "    </tr>\n",
       "    <tr>\n",
       "      <th>16041</th>\n",
       "      <td>United Kingdom</td>\n",
       "      <td>2020</td>\n",
       "      <td>80.902439</td>\n",
       "    </tr>\n",
       "    <tr>\n",
       "      <th>16053</th>\n",
       "      <td>Guam</td>\n",
       "      <td>2020</td>\n",
       "      <td>80.277000</td>\n",
       "    </tr>\n",
       "    <tr>\n",
       "      <th>16183</th>\n",
       "      <td>Sweden</td>\n",
       "      <td>2020</td>\n",
       "      <td>82.407317</td>\n",
       "    </tr>\n",
       "  </tbody>\n",
       "</table>\n",
       "<p>562 rows × 3 columns</p>\n",
       "</div>"
      ],
      "text/plain": [
       "                    Country  Year  Life_Expectancy\n",
       "9695                  Japan  1996        80.200244\n",
       "9938   Hong Kong SAR, China  1997        80.126829\n",
       "9961                  Japan  1997        80.424146\n",
       "10204  Hong Kong SAR, China  1998        80.131707\n",
       "10227                 Japan  1998        80.501463\n",
       "...                     ...   ...              ...\n",
       "16037                France  2020        82.175610\n",
       "16038         Faroe Islands  2020        83.092683\n",
       "16041        United Kingdom  2020        80.902439\n",
       "16053                  Guam  2020        80.277000\n",
       "16183                Sweden  2020        82.407317\n",
       "\n",
       "[562 rows x 3 columns]"
      ]
     },
     "execution_count": 29,
     "metadata": {},
     "output_type": "execute_result"
    }
   ],
   "source": [
    "life_expectancy[life_expectancy['Life_Expectancy'] >= 80].sort_values('Year')"
   ]
  },
  {
   "cell_type": "markdown",
   "metadata": {},
   "source": [
    "**Part 24.** Merge `gdp_per_capita` and `life_expectancy`, keeping all countries and years that appear in both DataFrames. Save the result to a new DataFrame named `gdp_le`. If you get any errors in doing this, read them carefully and correct them. Look at the first five rows of your new data frame to confirm it merged correctly. Also, check the last five rows to make sure the data is clean and as expected."
   ]
  },
  {
   "cell_type": "code",
   "execution_count": 30,
   "metadata": {},
   "outputs": [
    {
     "name": "stdout",
     "output_type": "stream",
     "text": [
      "<class 'pandas.core.frame.DataFrame'>\n",
      "Int64Index: 5443 entries, 0 to 5442\n",
      "Data columns (total 4 columns):\n",
      " #   Column          Non-Null Count  Dtype  \n",
      "---  ------          --------------  -----  \n",
      " 0   Continent       5443 non-null   object \n",
      " 1   Country         5443 non-null   object \n",
      " 2   Year            5443 non-null   int64  \n",
      " 3   GDP_Per_Capita  5443 non-null   float64\n",
      "dtypes: float64(1), int64(1), object(2)\n",
      "memory usage: 212.6+ KB\n"
     ]
    }
   ],
   "source": [
    "gdp_df.info()"
   ]
  },
  {
   "cell_type": "code",
   "execution_count": 31,
   "metadata": {},
   "outputs": [],
   "source": [
    "life_expectancy['Year'] = life_expectancy['Year'].astype(int)"
   ]
  },
  {
   "cell_type": "code",
   "execution_count": 32,
   "metadata": {},
   "outputs": [
    {
     "data": {
      "text/html": [
       "<div>\n",
       "<style scoped>\n",
       "    .dataframe tbody tr th:only-of-type {\n",
       "        vertical-align: middle;\n",
       "    }\n",
       "\n",
       "    .dataframe tbody tr th {\n",
       "        vertical-align: top;\n",
       "    }\n",
       "\n",
       "    .dataframe thead th {\n",
       "        text-align: right;\n",
       "    }\n",
       "</style>\n",
       "<table border=\"1\" class=\"dataframe\">\n",
       "  <thead>\n",
       "    <tr style=\"text-align: right;\">\n",
       "      <th></th>\n",
       "      <th>Continent</th>\n",
       "      <th>Country</th>\n",
       "      <th>Year</th>\n",
       "      <th>GDP_Per_Capita</th>\n",
       "      <th>Life_Expectancy</th>\n",
       "    </tr>\n",
       "  </thead>\n",
       "  <tbody>\n",
       "    <tr>\n",
       "      <th>0</th>\n",
       "      <td>Asia</td>\n",
       "      <td>Afghanistan</td>\n",
       "      <td>2019</td>\n",
       "      <td>2065.036398</td>\n",
       "      <td>64.833</td>\n",
       "    </tr>\n",
       "    <tr>\n",
       "      <th>1</th>\n",
       "      <td>Asia</td>\n",
       "      <td>Afghanistan</td>\n",
       "      <td>2018</td>\n",
       "      <td>2033.779002</td>\n",
       "      <td>64.486</td>\n",
       "    </tr>\n",
       "    <tr>\n",
       "      <th>2</th>\n",
       "      <td>Asia</td>\n",
       "      <td>Afghanistan</td>\n",
       "      <td>2017</td>\n",
       "      <td>2058.383832</td>\n",
       "      <td>64.130</td>\n",
       "    </tr>\n",
       "    <tr>\n",
       "      <th>3</th>\n",
       "      <td>Asia</td>\n",
       "      <td>Afghanistan</td>\n",
       "      <td>2016</td>\n",
       "      <td>2057.062164</td>\n",
       "      <td>63.763</td>\n",
       "    </tr>\n",
       "    <tr>\n",
       "      <th>4</th>\n",
       "      <td>Asia</td>\n",
       "      <td>Afghanistan</td>\n",
       "      <td>2015</td>\n",
       "      <td>2068.265904</td>\n",
       "      <td>63.377</td>\n",
       "    </tr>\n",
       "    <tr>\n",
       "      <th>...</th>\n",
       "      <td>...</td>\n",
       "      <td>...</td>\n",
       "      <td>...</td>\n",
       "      <td>...</td>\n",
       "      <td>...</td>\n",
       "    </tr>\n",
       "    <tr>\n",
       "      <th>4917</th>\n",
       "      <td>Africa</td>\n",
       "      <td>Zimbabwe</td>\n",
       "      <td>1994</td>\n",
       "      <td>3263.934978</td>\n",
       "      <td>52.044</td>\n",
       "    </tr>\n",
       "    <tr>\n",
       "      <th>4918</th>\n",
       "      <td>Africa</td>\n",
       "      <td>Zimbabwe</td>\n",
       "      <td>1993</td>\n",
       "      <td>3033.504852</td>\n",
       "      <td>53.653</td>\n",
       "    </tr>\n",
       "    <tr>\n",
       "      <th>4919</th>\n",
       "      <td>Africa</td>\n",
       "      <td>Zimbabwe</td>\n",
       "      <td>1992</td>\n",
       "      <td>3054.889178</td>\n",
       "      <td>55.243</td>\n",
       "    </tr>\n",
       "    <tr>\n",
       "      <th>4920</th>\n",
       "      <td>Africa</td>\n",
       "      <td>Zimbabwe</td>\n",
       "      <td>1991</td>\n",
       "      <td>3426.598094</td>\n",
       "      <td>56.749</td>\n",
       "    </tr>\n",
       "    <tr>\n",
       "      <th>4921</th>\n",
       "      <td>Africa</td>\n",
       "      <td>Zimbabwe</td>\n",
       "      <td>1990</td>\n",
       "      <td>3324.348171</td>\n",
       "      <td>58.100</td>\n",
       "    </tr>\n",
       "  </tbody>\n",
       "</table>\n",
       "<p>4922 rows × 5 columns</p>\n",
       "</div>"
      ],
      "text/plain": [
       "     Continent      Country  Year  GDP_Per_Capita  Life_Expectancy\n",
       "0         Asia  Afghanistan  2019     2065.036398           64.833\n",
       "1         Asia  Afghanistan  2018     2033.779002           64.486\n",
       "2         Asia  Afghanistan  2017     2058.383832           64.130\n",
       "3         Asia  Afghanistan  2016     2057.062164           63.763\n",
       "4         Asia  Afghanistan  2015     2068.265904           63.377\n",
       "...        ...          ...   ...             ...              ...\n",
       "4917    Africa     Zimbabwe  1994     3263.934978           52.044\n",
       "4918    Africa     Zimbabwe  1993     3033.504852           53.653\n",
       "4919    Africa     Zimbabwe  1992     3054.889178           55.243\n",
       "4920    Africa     Zimbabwe  1991     3426.598094           56.749\n",
       "4921    Africa     Zimbabwe  1990     3324.348171           58.100\n",
       "\n",
       "[4922 rows x 5 columns]"
      ]
     },
     "execution_count": 32,
     "metadata": {},
     "output_type": "execute_result"
    }
   ],
   "source": [
    "gdp_le = pd.merge(\n",
    "    left = gdp_df,\n",
    "    right = life_expectancy)\n",
    "gdp_le"
   ]
  },
  {
   "cell_type": "markdown",
   "metadata": {},
   "source": [
    "**Part 25.** Create a new DataFrame, named `gdp_le_2019` by extracting data for the year 2019 from `gdp_le`. How many countries have a life expectancy of at least 80 in 2019?"
   ]
  },
  {
   "cell_type": "code",
   "execution_count": 33,
   "metadata": {},
   "outputs": [
    {
     "data": {
      "text/html": [
       "<div>\n",
       "<style scoped>\n",
       "    .dataframe tbody tr th:only-of-type {\n",
       "        vertical-align: middle;\n",
       "    }\n",
       "\n",
       "    .dataframe tbody tr th {\n",
       "        vertical-align: top;\n",
       "    }\n",
       "\n",
       "    .dataframe thead th {\n",
       "        text-align: right;\n",
       "    }\n",
       "</style>\n",
       "<table border=\"1\" class=\"dataframe\">\n",
       "  <thead>\n",
       "    <tr style=\"text-align: right;\">\n",
       "      <th></th>\n",
       "      <th>Continent</th>\n",
       "      <th>Country</th>\n",
       "      <th>Year</th>\n",
       "      <th>GDP_Per_Capita</th>\n",
       "      <th>Life_Expectancy</th>\n",
       "    </tr>\n",
       "  </thead>\n",
       "  <tbody>\n",
       "    <tr>\n",
       "      <th>0</th>\n",
       "      <td>Asia</td>\n",
       "      <td>Afghanistan</td>\n",
       "      <td>2019</td>\n",
       "      <td>2065.036398</td>\n",
       "      <td>64.833</td>\n",
       "    </tr>\n",
       "    <tr>\n",
       "      <th>18</th>\n",
       "      <td>Europe</td>\n",
       "      <td>Albania</td>\n",
       "      <td>2019</td>\n",
       "      <td>13724.058790</td>\n",
       "      <td>78.573</td>\n",
       "    </tr>\n",
       "    <tr>\n",
       "      <th>48</th>\n",
       "      <td>Africa</td>\n",
       "      <td>Algeria</td>\n",
       "      <td>2019</td>\n",
       "      <td>11510.557088</td>\n",
       "      <td>76.880</td>\n",
       "    </tr>\n",
       "    <tr>\n",
       "      <th>78</th>\n",
       "      <td>Africa</td>\n",
       "      <td>Angola</td>\n",
       "      <td>2019</td>\n",
       "      <td>6670.332297</td>\n",
       "      <td>61.147</td>\n",
       "    </tr>\n",
       "    <tr>\n",
       "      <th>108</th>\n",
       "      <td>North America</td>\n",
       "      <td>Antigua and Barbuda</td>\n",
       "      <td>2019</td>\n",
       "      <td>21910.184985</td>\n",
       "      <td>77.016</td>\n",
       "    </tr>\n",
       "    <tr>\n",
       "      <th>...</th>\n",
       "      <td>...</td>\n",
       "      <td>...</td>\n",
       "      <td>...</td>\n",
       "      <td>...</td>\n",
       "      <td>...</td>\n",
       "    </tr>\n",
       "    <tr>\n",
       "      <th>4776</th>\n",
       "      <td>Oceania</td>\n",
       "      <td>Vanuatu</td>\n",
       "      <td>2019</td>\n",
       "      <td>3153.015168</td>\n",
       "      <td>70.474</td>\n",
       "    </tr>\n",
       "    <tr>\n",
       "      <th>4806</th>\n",
       "      <td>Asia</td>\n",
       "      <td>Vietnam</td>\n",
       "      <td>2019</td>\n",
       "      <td>8041.178551</td>\n",
       "      <td>75.400</td>\n",
       "    </tr>\n",
       "    <tr>\n",
       "      <th>4836</th>\n",
       "      <td>Asia</td>\n",
       "      <td>West Bank and Gaza</td>\n",
       "      <td>2019</td>\n",
       "      <td>6219.960291</td>\n",
       "      <td>74.053</td>\n",
       "    </tr>\n",
       "    <tr>\n",
       "      <th>4862</th>\n",
       "      <td>Africa</td>\n",
       "      <td>Zambia</td>\n",
       "      <td>2019</td>\n",
       "      <td>3470.448801</td>\n",
       "      <td>63.886</td>\n",
       "    </tr>\n",
       "    <tr>\n",
       "      <th>4892</th>\n",
       "      <td>Africa</td>\n",
       "      <td>Zimbabwe</td>\n",
       "      <td>2019</td>\n",
       "      <td>2835.948532</td>\n",
       "      <td>61.490</td>\n",
       "    </tr>\n",
       "  </tbody>\n",
       "</table>\n",
       "<p>167 rows × 5 columns</p>\n",
       "</div>"
      ],
      "text/plain": [
       "          Continent              Country  Year  GDP_Per_Capita  \\\n",
       "0              Asia          Afghanistan  2019     2065.036398   \n",
       "18           Europe              Albania  2019    13724.058790   \n",
       "48           Africa              Algeria  2019    11510.557088   \n",
       "78           Africa               Angola  2019     6670.332297   \n",
       "108   North America  Antigua and Barbuda  2019    21910.184985   \n",
       "...             ...                  ...   ...             ...   \n",
       "4776        Oceania              Vanuatu  2019     3153.015168   \n",
       "4806           Asia              Vietnam  2019     8041.178551   \n",
       "4836           Asia   West Bank and Gaza  2019     6219.960291   \n",
       "4862         Africa               Zambia  2019     3470.448801   \n",
       "4892         Africa             Zimbabwe  2019     2835.948532   \n",
       "\n",
       "      Life_Expectancy  \n",
       "0              64.833  \n",
       "18             78.573  \n",
       "48             76.880  \n",
       "78             61.147  \n",
       "108            77.016  \n",
       "...               ...  \n",
       "4776           70.474  \n",
       "4806           75.400  \n",
       "4836           74.053  \n",
       "4862           63.886  \n",
       "4892           61.490  \n",
       "\n",
       "[167 rows x 5 columns]"
      ]
     },
     "execution_count": 33,
     "metadata": {},
     "output_type": "execute_result"
    }
   ],
   "source": [
    "gdp_le_2019 = gdp_le[gdp_le['Year'] == 2019]\n",
    "gdp_le_2019"
   ]
  },
  {
   "cell_type": "markdown",
   "metadata": {},
   "source": [
    "**Part 26.** Find the countries that had the top 3 largest GDP per capita figures for 2019. Create a seaborn FacetGrid showing the change in life expectancy over time for these three countries. Each individual figure in the facet grid will represent a single country."
   ]
  },
  {
   "cell_type": "code",
   "execution_count": 34,
   "metadata": {},
   "outputs": [
    {
     "data": {
      "text/plain": [
       "['Macao SAR, China', 'Luxembourg', 'Singapore']"
      ]
     },
     "execution_count": 34,
     "metadata": {},
     "output_type": "execute_result"
    }
   ],
   "source": [
    "top_3_gdp = gdp_le_2019.nlargest(3, 'GDP_Per_Capita')['Country'].to_list()\n",
    "top_3_gdp"
   ]
  },
  {
   "cell_type": "code",
   "execution_count": 35,
   "metadata": {},
   "outputs": [
    {
     "data": {
      "image/png": "[encoded data removed]",
      "text/plain": [
       "<Figure size 648x216 with 3 Axes>"
      ]
     },
     "metadata": {
      "needs_background": "light"
     },
     "output_type": "display_data"
    }
   ],
   "source": [
    "g = sns.FacetGrid(data = gdp_le[gdp_le['Country'].isin(top_3_gdp)],\n",
    "             col = 'Country')\n",
    "g.map(sns.scatterplot, 'Year', 'Life_Expectancy');"
   ]
  },
  {
   "cell_type": "markdown",
   "metadata": {},
   "source": [
    "**Part 27.** Create a scatter plot of Life Expectancy vs GDP per Capita for the year 2019. What do you notice?\n",
    "- The data look like a curvalinear function."
   ]
  },
  {
   "cell_type": "code",
   "execution_count": 36,
   "metadata": {},
   "outputs": [
    {
     "data": {
      "image/png": "[encoded data removed]",
      "text/plain": [
       "<Figure size 432x288 with 1 Axes>"
      ]
     },
     "metadata": {
      "needs_background": "light"
     },
     "output_type": "display_data"
    }
   ],
   "source": [
    "gdp_le_2019.plot(kind = 'scatter', x = 'GDP_Per_Capita', y = 'Life_Expectancy');"
   ]
  },
  {
   "cell_type": "markdown",
   "metadata": {},
   "source": [
    "**Part 28.** Find the correlation between Life Expectancy and GDP per Capita for the year 2019. What is the meaning of this number?\n",
    " - The number means that gdp per capita and life expectation are highly correlated.  GDP is a strong indicator for life expectancy in the year 2019."
   ]
  },
  {
   "cell_type": "code",
   "execution_count": 37,
   "metadata": {},
   "outputs": [
    {
     "data": {
      "text/html": [
       "<div>\n",
       "<style scoped>\n",
       "    .dataframe tbody tr th:only-of-type {\n",
       "        vertical-align: middle;\n",
       "    }\n",
       "\n",
       "    .dataframe tbody tr th {\n",
       "        vertical-align: top;\n",
       "    }\n",
       "\n",
       "    .dataframe thead th {\n",
       "        text-align: right;\n",
       "    }\n",
       "</style>\n",
       "<table border=\"1\" class=\"dataframe\">\n",
       "  <thead>\n",
       "    <tr style=\"text-align: right;\">\n",
       "      <th></th>\n",
       "      <th>GDP_Per_Capita</th>\n",
       "      <th>Life_Expectancy</th>\n",
       "    </tr>\n",
       "  </thead>\n",
       "  <tbody>\n",
       "    <tr>\n",
       "      <th>GDP_Per_Capita</th>\n",
       "      <td>1.000000</td>\n",
       "      <td>0.709018</td>\n",
       "    </tr>\n",
       "    <tr>\n",
       "      <th>Life_Expectancy</th>\n",
       "      <td>0.709018</td>\n",
       "      <td>1.000000</td>\n",
       "    </tr>\n",
       "  </tbody>\n",
       "</table>\n",
       "</div>"
      ],
      "text/plain": [
       "                 GDP_Per_Capita  Life_Expectancy\n",
       "GDP_Per_Capita         1.000000         0.709018\n",
       "Life_Expectancy        0.709018         1.000000"
      ]
     },
     "execution_count": 37,
     "metadata": {},
     "output_type": "execute_result"
    }
   ],
   "source": [
    "gdp_le_2019[['GDP_Per_Capita', 'Life_Expectancy']].corr()"
   ]
  },
  {
   "cell_type": "markdown",
   "metadata": {},
   "source": [
    "**Part 29.** Add a column to `gdp_le_2019` and calculate the logarithm of GDP per capita. Find the correlation between the log of GDP per capita and life expectancy. How does this compare to the calculation in the previous part? Look at a scatter plot to see if the result of this calculation makes sense.\n",
    "- The shape of the data changed from a \"curvy\" distribution to one that more resembles a linear trend.  When viewd as log transformed values, the correlation rose significantly."
   ]
  },
  {
   "cell_type": "code",
   "execution_count": 38,
   "metadata": {},
   "outputs": [
    {
     "name": "stderr",
     "output_type": "stream",
     "text": [
      "/tmp/ipykernel_86260/2740929984.py:1: SettingWithCopyWarning: \n",
      "A value is trying to be set on a copy of a slice from a DataFrame.\n",
      "Try using .loc[row_indexer,col_indexer] = value instead\n",
      "\n",
      "See the caveats in the documentation: https://pandas.pydata.org/pandas-docs/stable/user_guide/indexing.html#returning-a-view-versus-a-copy\n",
      "  gdp_le_2019['log_gdp'] = np.log(gdp_le_2019['GDP_Per_Capita'])\n"
     ]
    }
   ],
   "source": [
    "gdp_le_2019['log_gdp'] = np.log(gdp_le_2019['GDP_Per_Capita'])"
   ]
  },
  {
   "cell_type": "code",
   "execution_count": 39,
   "metadata": {},
   "outputs": [
    {
     "data": {
      "text/html": [
       "<div>\n",
       "<style scoped>\n",
       "    .dataframe tbody tr th:only-of-type {\n",
       "        vertical-align: middle;\n",
       "    }\n",
       "\n",
       "    .dataframe tbody tr th {\n",
       "        vertical-align: top;\n",
       "    }\n",
       "\n",
       "    .dataframe thead th {\n",
       "        text-align: right;\n",
       "    }\n",
       "</style>\n",
       "<table border=\"1\" class=\"dataframe\">\n",
       "  <thead>\n",
       "    <tr style=\"text-align: right;\">\n",
       "      <th></th>\n",
       "      <th>Continent</th>\n",
       "      <th>Country</th>\n",
       "      <th>Year</th>\n",
       "      <th>GDP_Per_Capita</th>\n",
       "      <th>Life_Expectancy</th>\n",
       "      <th>log_gdp</th>\n",
       "    </tr>\n",
       "  </thead>\n",
       "  <tbody>\n",
       "    <tr>\n",
       "      <th>0</th>\n",
       "      <td>Asia</td>\n",
       "      <td>Afghanistan</td>\n",
       "      <td>2019</td>\n",
       "      <td>2065.036398</td>\n",
       "      <td>64.833</td>\n",
       "      <td>7.632903</td>\n",
       "    </tr>\n",
       "    <tr>\n",
       "      <th>18</th>\n",
       "      <td>Europe</td>\n",
       "      <td>Albania</td>\n",
       "      <td>2019</td>\n",
       "      <td>13724.058790</td>\n",
       "      <td>78.573</td>\n",
       "      <td>9.526906</td>\n",
       "    </tr>\n",
       "    <tr>\n",
       "      <th>48</th>\n",
       "      <td>Africa</td>\n",
       "      <td>Algeria</td>\n",
       "      <td>2019</td>\n",
       "      <td>11510.557088</td>\n",
       "      <td>76.880</td>\n",
       "      <td>9.351020</td>\n",
       "    </tr>\n",
       "    <tr>\n",
       "      <th>78</th>\n",
       "      <td>Africa</td>\n",
       "      <td>Angola</td>\n",
       "      <td>2019</td>\n",
       "      <td>6670.332297</td>\n",
       "      <td>61.147</td>\n",
       "      <td>8.805425</td>\n",
       "    </tr>\n",
       "    <tr>\n",
       "      <th>108</th>\n",
       "      <td>North America</td>\n",
       "      <td>Antigua and Barbuda</td>\n",
       "      <td>2019</td>\n",
       "      <td>21910.184985</td>\n",
       "      <td>77.016</td>\n",
       "      <td>9.994707</td>\n",
       "    </tr>\n",
       "    <tr>\n",
       "      <th>...</th>\n",
       "      <td>...</td>\n",
       "      <td>...</td>\n",
       "      <td>...</td>\n",
       "      <td>...</td>\n",
       "      <td>...</td>\n",
       "      <td>...</td>\n",
       "    </tr>\n",
       "    <tr>\n",
       "      <th>4776</th>\n",
       "      <td>Oceania</td>\n",
       "      <td>Vanuatu</td>\n",
       "      <td>2019</td>\n",
       "      <td>3153.015168</td>\n",
       "      <td>70.474</td>\n",
       "      <td>8.056114</td>\n",
       "    </tr>\n",
       "    <tr>\n",
       "      <th>4806</th>\n",
       "      <td>Asia</td>\n",
       "      <td>Vietnam</td>\n",
       "      <td>2019</td>\n",
       "      <td>8041.178551</td>\n",
       "      <td>75.400</td>\n",
       "      <td>8.992331</td>\n",
       "    </tr>\n",
       "    <tr>\n",
       "      <th>4836</th>\n",
       "      <td>Asia</td>\n",
       "      <td>West Bank and Gaza</td>\n",
       "      <td>2019</td>\n",
       "      <td>6219.960291</td>\n",
       "      <td>74.053</td>\n",
       "      <td>8.735519</td>\n",
       "    </tr>\n",
       "    <tr>\n",
       "      <th>4862</th>\n",
       "      <td>Africa</td>\n",
       "      <td>Zambia</td>\n",
       "      <td>2019</td>\n",
       "      <td>3470.448801</td>\n",
       "      <td>63.886</td>\n",
       "      <td>8.152039</td>\n",
       "    </tr>\n",
       "    <tr>\n",
       "      <th>4892</th>\n",
       "      <td>Africa</td>\n",
       "      <td>Zimbabwe</td>\n",
       "      <td>2019</td>\n",
       "      <td>2835.948532</td>\n",
       "      <td>61.490</td>\n",
       "      <td>7.950132</td>\n",
       "    </tr>\n",
       "  </tbody>\n",
       "</table>\n",
       "<p>167 rows × 6 columns</p>\n",
       "</div>"
      ],
      "text/plain": [
       "          Continent              Country  Year  GDP_Per_Capita  \\\n",
       "0              Asia          Afghanistan  2019     2065.036398   \n",
       "18           Europe              Albania  2019    13724.058790   \n",
       "48           Africa              Algeria  2019    11510.557088   \n",
       "78           Africa               Angola  2019     6670.332297   \n",
       "108   North America  Antigua and Barbuda  2019    21910.184985   \n",
       "...             ...                  ...   ...             ...   \n",
       "4776        Oceania              Vanuatu  2019     3153.015168   \n",
       "4806           Asia              Vietnam  2019     8041.178551   \n",
       "4836           Asia   West Bank and Gaza  2019     6219.960291   \n",
       "4862         Africa               Zambia  2019     3470.448801   \n",
       "4892         Africa             Zimbabwe  2019     2835.948532   \n",
       "\n",
       "      Life_Expectancy   log_gdp  \n",
       "0              64.833  7.632903  \n",
       "18             78.573  9.526906  \n",
       "48             76.880  9.351020  \n",
       "78             61.147  8.805425  \n",
       "108            77.016  9.994707  \n",
       "...               ...       ...  \n",
       "4776           70.474  8.056114  \n",
       "4806           75.400  8.992331  \n",
       "4836           74.053  8.735519  \n",
       "4862           63.886  8.152039  \n",
       "4892           61.490  7.950132  \n",
       "\n",
       "[167 rows x 6 columns]"
      ]
     },
     "execution_count": 39,
     "metadata": {},
     "output_type": "execute_result"
    }
   ],
   "source": [
    "gdp_le_2019"
   ]
  },
  {
   "cell_type": "code",
   "execution_count": 40,
   "metadata": {
    "scrolled": false
   },
   "outputs": [
    {
     "data": {
      "text/html": [
       "<div>\n",
       "<style scoped>\n",
       "    .dataframe tbody tr th:only-of-type {\n",
       "        vertical-align: middle;\n",
       "    }\n",
       "\n",
       "    .dataframe tbody tr th {\n",
       "        vertical-align: top;\n",
       "    }\n",
       "\n",
       "    .dataframe thead th {\n",
       "        text-align: right;\n",
       "    }\n",
       "</style>\n",
       "<table border=\"1\" class=\"dataframe\">\n",
       "  <thead>\n",
       "    <tr style=\"text-align: right;\">\n",
       "      <th></th>\n",
       "      <th>Year</th>\n",
       "      <th>GDP_Per_Capita</th>\n",
       "      <th>Life_Expectancy</th>\n",
       "      <th>log_gdp</th>\n",
       "    </tr>\n",
       "  </thead>\n",
       "  <tbody>\n",
       "    <tr>\n",
       "      <th>Year</th>\n",
       "      <td>NaN</td>\n",
       "      <td>NaN</td>\n",
       "      <td>NaN</td>\n",
       "      <td>NaN</td>\n",
       "    </tr>\n",
       "    <tr>\n",
       "      <th>GDP_Per_Capita</th>\n",
       "      <td>NaN</td>\n",
       "      <td>1.000000</td>\n",
       "      <td>0.709018</td>\n",
       "      <td>0.851629</td>\n",
       "    </tr>\n",
       "    <tr>\n",
       "      <th>Life_Expectancy</th>\n",
       "      <td>NaN</td>\n",
       "      <td>0.709018</td>\n",
       "      <td>1.000000</td>\n",
       "      <td>0.848498</td>\n",
       "    </tr>\n",
       "    <tr>\n",
       "      <th>log_gdp</th>\n",
       "      <td>NaN</td>\n",
       "      <td>0.851629</td>\n",
       "      <td>0.848498</td>\n",
       "      <td>1.000000</td>\n",
       "    </tr>\n",
       "  </tbody>\n",
       "</table>\n",
       "</div>"
      ],
      "text/plain": [
       "                 Year  GDP_Per_Capita  Life_Expectancy   log_gdp\n",
       "Year              NaN             NaN              NaN       NaN\n",
       "GDP_Per_Capita    NaN        1.000000         0.709018  0.851629\n",
       "Life_Expectancy   NaN        0.709018         1.000000  0.848498\n",
       "log_gdp           NaN        0.851629         0.848498  1.000000"
      ]
     },
     "execution_count": 40,
     "metadata": {},
     "output_type": "execute_result"
    }
   ],
   "source": [
    "gdp_le_2019.corr()"
   ]
  },
  {
   "cell_type": "code",
   "execution_count": 41,
   "metadata": {
    "scrolled": false
   },
   "outputs": [
    {
     "data": {
      "image/png": "[encoded data removed]",
      "text/plain": [
       "<Figure size 432x288 with 1 Axes>"
      ]
     },
     "metadata": {
      "needs_background": "light"
     },
     "output_type": "display_data"
    }
   ],
   "source": [
    "gdp_le_2019.plot(kind = 'scatter', x = 'log_gdp', y = 'Life_Expectancy');"
   ]
  },
  {
   "cell_type": "markdown",
   "metadata": {},
   "source": [
    "### Solo Exploration and Presentation:"
   ]
  },
  {
   "cell_type": "markdown",
   "metadata": {},
   "source": [
    "1. Choose and download another data set from the UN data [http://data.un.org/Explorer.aspx](http://data.un.org/Explorer.aspx) to explore. You may want to combine your new dataset with one or both of the datasets that you already worked with. Prepare a short (< 5 minute) presentation of your findings. Report any interesting correlations or trends that you find. "
   ]
  },
  {
   "cell_type": "markdown",
   "metadata": {},
   "source": [
    "# Exploration parameters"
   ]
  },
  {
   "cell_type": "markdown",
   "metadata": {},
   "source": [
    "**Data:** The data set comes from the UNdata database and was collected by the UNESCO Institute for Statistics (UIS).  It lists a country's annual public expenditure on education as a percent of GDP."
   ]
  },
  {
   "cell_type": "markdown",
   "metadata": {},
   "source": [
    "**What I hope to learn:**  Is there a relationship between changes in GDP and a country's educational investement?"
   ]
  },
  {
   "cell_type": "markdown",
   "metadata": {},
   "source": [
    "**Challenges:**  \n",
    "\n",
    "1) In the data, educational spending is expressed as a percentage of a country's annual GDP, and not as a country's total annual educational spending.  \n",
    "\n",
    "2) These data are not in decimal form and will need to be converted. Total educational expendature will need to be derived.  \n",
    "\n",
    "3) I am also unsure of the shape of my dataset and which countries whould provide sufficient continuous observations to draw comparisons.\n",
    "\n",
    "4) I am unsure of the correct statistical analysis show a potential relationship."
   ]
  },
  {
   "cell_type": "code",
   "execution_count": 42,
   "metadata": {},
   "outputs": [
    {
     "data": {
      "text/html": [
       "<div>\n",
       "<style scoped>\n",
       "    .dataframe tbody tr th:only-of-type {\n",
       "        vertical-align: middle;\n",
       "    }\n",
       "\n",
       "    .dataframe tbody tr th {\n",
       "        vertical-align: top;\n",
       "    }\n",
       "\n",
       "    .dataframe thead th {\n",
       "        text-align: right;\n",
       "    }\n",
       "</style>\n",
       "<table border=\"1\" class=\"dataframe\">\n",
       "  <thead>\n",
       "    <tr style=\"text-align: right;\">\n",
       "      <th></th>\n",
       "      <th>Country</th>\n",
       "      <th>Year</th>\n",
       "      <th>Edu_Percent</th>\n",
       "    </tr>\n",
       "  </thead>\n",
       "  <tbody>\n",
       "    <tr>\n",
       "      <th>0</th>\n",
       "      <td>Afghanistan</td>\n",
       "      <td>2014</td>\n",
       "      <td>4.80435</td>\n",
       "    </tr>\n",
       "    <tr>\n",
       "      <th>1</th>\n",
       "      <td>Afghanistan</td>\n",
       "      <td>2013</td>\n",
       "      <td>4.54436</td>\n",
       "    </tr>\n",
       "    <tr>\n",
       "      <th>2</th>\n",
       "      <td>Afghanistan</td>\n",
       "      <td>2012</td>\n",
       "      <td>3.12562</td>\n",
       "    </tr>\n",
       "    <tr>\n",
       "      <th>3</th>\n",
       "      <td>Afghanistan</td>\n",
       "      <td>2011</td>\n",
       "      <td>4.08791</td>\n",
       "    </tr>\n",
       "    <tr>\n",
       "      <th>4</th>\n",
       "      <td>Afghanistan</td>\n",
       "      <td>2010</td>\n",
       "      <td>4.51116</td>\n",
       "    </tr>\n",
       "  </tbody>\n",
       "</table>\n",
       "</div>"
      ],
      "text/plain": [
       "       Country  Year  Edu_Percent\n",
       "0  Afghanistan  2014      4.80435\n",
       "1  Afghanistan  2013      4.54436\n",
       "2  Afghanistan  2012      3.12562\n",
       "3  Afghanistan  2011      4.08791\n",
       "4  Afghanistan  2010      4.51116"
      ]
     },
     "execution_count": 42,
     "metadata": {},
     "output_type": "execute_result"
    }
   ],
   "source": [
    "#Load Government expenditure on education as % of GDP dataset.\n",
    "#Check for junk data at top and bottom of data set\n",
    "#Drop columns not neccessary for this analysis\n",
    "#Rename Columns to make compatable with GDP Dataset\n",
    "edu_df = (\n",
    "    pd.read_csv('../data/Gov_Edu_Spen_Pers_GDP.csv')\n",
    "    .drop(columns = ['Sex',\n",
    "                     'Age group',\n",
    "                     'Units of measurement'])\n",
    "    .rename(columns = {\n",
    "        'Reference Area': 'Country',\n",
    "    'Time Period': 'Year',\n",
    "    'Observation Value': \"Edu_Percent\"})\n",
    ")\n",
    "edu_df.head(n=5)"
   ]
  },
  {
   "cell_type": "markdown",
   "metadata": {},
   "source": [
    "**Note:** Converting percentages to decimals and storing it in a new column \"Edu_Dec.\"  It worked."
   ]
  },
  {
   "cell_type": "code",
   "execution_count": 43,
   "metadata": {
    "scrolled": true
   },
   "outputs": [
    {
     "data": {
      "text/html": [
       "<div>\n",
       "<style scoped>\n",
       "    .dataframe tbody tr th:only-of-type {\n",
       "        vertical-align: middle;\n",
       "    }\n",
       "\n",
       "    .dataframe tbody tr th {\n",
       "        vertical-align: top;\n",
       "    }\n",
       "\n",
       "    .dataframe thead th {\n",
       "        text-align: right;\n",
       "    }\n",
       "</style>\n",
       "<table border=\"1\" class=\"dataframe\">\n",
       "  <thead>\n",
       "    <tr style=\"text-align: right;\">\n",
       "      <th></th>\n",
       "      <th>Country</th>\n",
       "      <th>Year</th>\n",
       "      <th>Edu_Percent</th>\n",
       "      <th>Edu_Dec</th>\n",
       "    </tr>\n",
       "  </thead>\n",
       "  <tbody>\n",
       "    <tr>\n",
       "      <th>0</th>\n",
       "      <td>Afghanistan</td>\n",
       "      <td>2014</td>\n",
       "      <td>4.80435</td>\n",
       "      <td>0.048044</td>\n",
       "    </tr>\n",
       "  </tbody>\n",
       "</table>\n",
       "</div>"
      ],
      "text/plain": [
       "       Country  Year  Edu_Percent   Edu_Dec\n",
       "0  Afghanistan  2014      4.80435  0.048044"
      ]
     },
     "execution_count": 43,
     "metadata": {},
     "output_type": "execute_result"
    }
   ],
   "source": [
    "edu_df['Edu_Dec'] = edu_df[\"Edu_Percent\"] / 100\n",
    "edu_df.head(n=1)"
   ]
  },
  {
   "cell_type": "markdown",
   "metadata": {},
   "source": [
    "**Side Quest** I graduated high school in 2004. I wonder what which countries were in the top 5 in terms of highest percent GDP investment in education? I'll take a slice up some nostalgia!\n",
    "- Looks like Lesotho, Cuba, Djibouti, Denmark, and Ghana!"
   ]
  },
  {
   "cell_type": "code",
   "execution_count": 44,
   "metadata": {},
   "outputs": [
    {
     "data": {
      "text/html": [
       "<div>\n",
       "<style scoped>\n",
       "    .dataframe tbody tr th:only-of-type {\n",
       "        vertical-align: middle;\n",
       "    }\n",
       "\n",
       "    .dataframe tbody tr th {\n",
       "        vertical-align: top;\n",
       "    }\n",
       "\n",
       "    .dataframe thead th {\n",
       "        text-align: right;\n",
       "    }\n",
       "</style>\n",
       "<table border=\"1\" class=\"dataframe\">\n",
       "  <thead>\n",
       "    <tr style=\"text-align: right;\">\n",
       "      <th></th>\n",
       "      <th>Country</th>\n",
       "      <th>Year</th>\n",
       "      <th>Edu_Percent</th>\n",
       "      <th>Edu_Dec</th>\n",
       "    </tr>\n",
       "  </thead>\n",
       "  <tbody>\n",
       "    <tr>\n",
       "      <th>1651</th>\n",
       "      <td>Lesotho</td>\n",
       "      <td>2004</td>\n",
       "      <td>13.27157</td>\n",
       "      <td>0.132716</td>\n",
       "    </tr>\n",
       "    <tr>\n",
       "      <th>712</th>\n",
       "      <td>Cuba</td>\n",
       "      <td>2004</td>\n",
       "      <td>10.26828</td>\n",
       "      <td>0.102683</td>\n",
       "    </tr>\n",
       "    <tr>\n",
       "      <th>819</th>\n",
       "      <td>Djibouti</td>\n",
       "      <td>2004</td>\n",
       "      <td>9.26467</td>\n",
       "      <td>0.092647</td>\n",
       "    </tr>\n",
       "    <tr>\n",
       "      <th>794</th>\n",
       "      <td>Denmark</td>\n",
       "      <td>2004</td>\n",
       "      <td>8.21189</td>\n",
       "      <td>0.082119</td>\n",
       "    </tr>\n",
       "    <tr>\n",
       "      <th>1081</th>\n",
       "      <td>Ghana</td>\n",
       "      <td>2004</td>\n",
       "      <td>7.53558</td>\n",
       "      <td>0.075356</td>\n",
       "    </tr>\n",
       "  </tbody>\n",
       "</table>\n",
       "</div>"
      ],
      "text/plain": [
       "       Country  Year  Edu_Percent   Edu_Dec\n",
       "1651   Lesotho  2004     13.27157  0.132716\n",
       "712       Cuba  2004     10.26828  0.102683\n",
       "819   Djibouti  2004      9.26467  0.092647\n",
       "794    Denmark  2004      8.21189  0.082119\n",
       "1081     Ghana  2004      7.53558  0.075356"
      ]
     },
     "execution_count": 44,
     "metadata": {},
     "output_type": "execute_result"
    }
   ],
   "source": [
    "nostalgia = edu_df.loc[edu_df['Year'] == 2004].sort_values(by = 'Edu_Percent', ascending = False)\n",
    "nostalgia.head()\n"
   ]
  },
  {
   "cell_type": "code",
   "execution_count": 45,
   "metadata": {},
   "outputs": [
    {
     "data": {
      "text/plain": [
       "['Lesotho', 'Cuba', 'Djibouti', 'Denmark', 'Ghana']"
      ]
     },
     "execution_count": 45,
     "metadata": {},
     "output_type": "execute_result"
    }
   ],
   "source": [
    "top_5_2004 = nostalgia.nlargest(5, 'Edu_Percent')['Country'].to_list()\n",
    "top_5_2004"
   ]
  },
  {
   "cell_type": "code",
   "execution_count": 46,
   "metadata": {},
   "outputs": [
    {
     "data": {
      "image/png": "[encoded data removed]",
      "text/plain": [
       "<Figure size 576x432 with 1 Axes>"
      ]
     },
     "metadata": {
      "needs_background": "light"
     },
     "output_type": "display_data"
    }
   ],
   "source": [
    "fig, ax = plt.subplots(figsize = (8,6))\n",
    "\n",
    "sns.barplot(data = nostalgia[nostalgia['Country'].isin(top_5_2004)],\n",
    "    x = 'Country',\n",
    "    y = 'Edu_Percent',\n",
    "    hue = 'Country',\n",
    "    dodge = False,\n",
    ")\n",
    "plt.xticks(rotation = 45);"
   ]
  },
  {
   "cell_type": "code",
   "execution_count": 47,
   "metadata": {},
   "outputs": [
    {
     "name": "stdout",
     "output_type": "stream",
     "text": [
      "<class 'pandas.core.frame.DataFrame'>\n",
      "RangeIndex: 3195 entries, 0 to 3194\n",
      "Data columns (total 4 columns):\n",
      " #   Column       Non-Null Count  Dtype  \n",
      "---  ------       --------------  -----  \n",
      " 0   Country      3195 non-null   object \n",
      " 1   Year         3195 non-null   int64  \n",
      " 2   Edu_Percent  3195 non-null   float64\n",
      " 3   Edu_Dec      3195 non-null   float64\n",
      "dtypes: float64(2), int64(1), object(1)\n",
      "memory usage: 100.0+ KB\n"
     ]
    }
   ],
   "source": [
    "#Checking Dtype\n",
    "edu_df.info()"
   ]
  },
  {
   "cell_type": "markdown",
   "metadata": {},
   "source": [
    "**Note:** There are only 197 countries represented in this dataset.  This is fewer than the 238 represented in the gdp_df dataset."
   ]
  },
  {
   "cell_type": "code",
   "execution_count": 48,
   "metadata": {},
   "outputs": [
    {
     "data": {
      "text/plain": [
       "197"
      ]
     },
     "execution_count": 48,
     "metadata": {},
     "output_type": "execute_result"
    }
   ],
   "source": [
    "#Checking for unique countries\n",
    "edu_df['Country'].nunique()\n",
    "#print('There are '+ str(edu_df['Country'].nunique()))"
   ]
  },
  {
   "cell_type": "markdown",
   "metadata": {},
   "source": [
    "**Note:** There seems to be a larger concentration of observations between the years of **1999** and **2011**.  These years are also represented in the gdp_df.  I might have more complete information if I limit my focus to those years."
   ]
  },
  {
   "cell_type": "code",
   "execution_count": 49,
   "metadata": {},
   "outputs": [
    {
     "data": {
      "text/plain": [
       "1975     55\n",
       "1976     50\n",
       "1977     50\n",
       "1978     49\n",
       "1979     56\n",
       "1980     65\n",
       "1981     57\n",
       "1982     61\n",
       "1983     55\n",
       "1984     58\n",
       "1985     55\n",
       "1986     61\n",
       "1987     55\n",
       "1988     55\n",
       "1989     57\n",
       "1990     53\n",
       "1991     55\n",
       "1992     58\n",
       "1993     58\n",
       "1994     71\n",
       "1995     82\n",
       "1996     81\n",
       "1997     38\n",
       "1998     92\n",
       "1999    120\n",
       "2000    122\n",
       "2001    118\n",
       "2002    127\n",
       "2003    114\n",
       "2004    126\n",
       "2005    113\n",
       "2006    113\n",
       "2007    115\n",
       "2008    126\n",
       "2009    120\n",
       "2010    125\n",
       "2011    113\n",
       "2012     95\n",
       "2013     78\n",
       "2014     41\n",
       "2015      2\n",
       "Name: Year, dtype: int64"
      ]
     },
     "execution_count": 49,
     "metadata": {},
     "output_type": "execute_result"
    }
   ],
   "source": [
    "#Checking years represented\n",
    "edu_df['Year'].value_counts().sort_index()"
   ]
  },
  {
   "cell_type": "markdown",
   "metadata": {},
   "source": [
    "**Note:**  I'm going to merge edu_df and gdp_df dataframes."
   ]
  },
  {
   "cell_type": "code",
   "execution_count": 50,
   "metadata": {},
   "outputs": [
    {
     "data": {
      "text/html": [
       "<div>\n",
       "<style scoped>\n",
       "    .dataframe tbody tr th:only-of-type {\n",
       "        vertical-align: middle;\n",
       "    }\n",
       "\n",
       "    .dataframe tbody tr th {\n",
       "        vertical-align: top;\n",
       "    }\n",
       "\n",
       "    .dataframe thead th {\n",
       "        text-align: right;\n",
       "    }\n",
       "</style>\n",
       "<table border=\"1\" class=\"dataframe\">\n",
       "  <thead>\n",
       "    <tr style=\"text-align: right;\">\n",
       "      <th></th>\n",
       "      <th>Continent</th>\n",
       "      <th>Country_x</th>\n",
       "      <th>Year</th>\n",
       "      <th>GDP_Per_Capita</th>\n",
       "      <th>Country_y</th>\n",
       "      <th>Edu_Percent</th>\n",
       "      <th>Edu_Dec</th>\n",
       "    </tr>\n",
       "  </thead>\n",
       "  <tbody>\n",
       "    <tr>\n",
       "      <th>0</th>\n",
       "      <td>Asia</td>\n",
       "      <td>Afghanistan</td>\n",
       "      <td>2014</td>\n",
       "      <td>2102.385234</td>\n",
       "      <td>Afghanistan</td>\n",
       "      <td>4.80435</td>\n",
       "      <td>0.048044</td>\n",
       "    </tr>\n",
       "    <tr>\n",
       "      <th>1</th>\n",
       "      <td>Europe</td>\n",
       "      <td>Albania</td>\n",
       "      <td>2014</td>\n",
       "      <td>11623.866679</td>\n",
       "      <td>Afghanistan</td>\n",
       "      <td>4.80435</td>\n",
       "      <td>0.048044</td>\n",
       "    </tr>\n",
       "    <tr>\n",
       "      <th>2</th>\n",
       "      <td>Africa</td>\n",
       "      <td>Algeria</td>\n",
       "      <td>2014</td>\n",
       "      <td>11512.705405</td>\n",
       "      <td>Afghanistan</td>\n",
       "      <td>4.80435</td>\n",
       "      <td>0.048044</td>\n",
       "    </tr>\n",
       "    <tr>\n",
       "      <th>3</th>\n",
       "      <td>Africa</td>\n",
       "      <td>Angola</td>\n",
       "      <td>2014</td>\n",
       "      <td>8239.828837</td>\n",
       "      <td>Afghanistan</td>\n",
       "      <td>4.80435</td>\n",
       "      <td>0.048044</td>\n",
       "    </tr>\n",
       "    <tr>\n",
       "      <th>4</th>\n",
       "      <td>North America</td>\n",
       "      <td>Antigua and Barbuda</td>\n",
       "      <td>2014</td>\n",
       "      <td>18104.241470</td>\n",
       "      <td>Afghanistan</td>\n",
       "      <td>4.80435</td>\n",
       "      <td>0.048044</td>\n",
       "    </tr>\n",
       "    <tr>\n",
       "      <th>...</th>\n",
       "      <td>...</td>\n",
       "      <td>...</td>\n",
       "      <td>...</td>\n",
       "      <td>...</td>\n",
       "      <td>...</td>\n",
       "      <td>...</td>\n",
       "      <td>...</td>\n",
       "    </tr>\n",
       "    <tr>\n",
       "      <th>429903</th>\n",
       "      <td>Asia</td>\n",
       "      <td>Uzbekistan</td>\n",
       "      <td>1990</td>\n",
       "      <td>3416.724096</td>\n",
       "      <td>Zimbabwe</td>\n",
       "      <td>12.45426</td>\n",
       "      <td>0.124543</td>\n",
       "    </tr>\n",
       "    <tr>\n",
       "      <th>429904</th>\n",
       "      <td>Oceania</td>\n",
       "      <td>Vanuatu</td>\n",
       "      <td>1990</td>\n",
       "      <td>2888.309393</td>\n",
       "      <td>Zimbabwe</td>\n",
       "      <td>12.45426</td>\n",
       "      <td>0.124543</td>\n",
       "    </tr>\n",
       "    <tr>\n",
       "      <th>429905</th>\n",
       "      <td>Asia</td>\n",
       "      <td>Vietnam</td>\n",
       "      <td>1990</td>\n",
       "      <td>1673.249634</td>\n",
       "      <td>Zimbabwe</td>\n",
       "      <td>12.45426</td>\n",
       "      <td>0.124543</td>\n",
       "    </tr>\n",
       "    <tr>\n",
       "      <th>429906</th>\n",
       "      <td>Africa</td>\n",
       "      <td>Zambia</td>\n",
       "      <td>1990</td>\n",
       "      <td>2190.182814</td>\n",
       "      <td>Zimbabwe</td>\n",
       "      <td>12.45426</td>\n",
       "      <td>0.124543</td>\n",
       "    </tr>\n",
       "    <tr>\n",
       "      <th>429907</th>\n",
       "      <td>Africa</td>\n",
       "      <td>Zimbabwe</td>\n",
       "      <td>1990</td>\n",
       "      <td>3324.348171</td>\n",
       "      <td>Zimbabwe</td>\n",
       "      <td>12.45426</td>\n",
       "      <td>0.124543</td>\n",
       "    </tr>\n",
       "  </tbody>\n",
       "</table>\n",
       "<p>429078 rows × 7 columns</p>\n",
       "</div>"
      ],
      "text/plain": [
       "            Continent            Country_x  Year  GDP_Per_Capita    Country_y  \\\n",
       "0                Asia          Afghanistan  2014     2102.385234  Afghanistan   \n",
       "1              Europe              Albania  2014    11623.866679  Afghanistan   \n",
       "2              Africa              Algeria  2014    11512.705405  Afghanistan   \n",
       "3              Africa               Angola  2014     8239.828837  Afghanistan   \n",
       "4       North America  Antigua and Barbuda  2014    18104.241470  Afghanistan   \n",
       "...               ...                  ...   ...             ...          ...   \n",
       "429903           Asia           Uzbekistan  1990     3416.724096     Zimbabwe   \n",
       "429904        Oceania              Vanuatu  1990     2888.309393     Zimbabwe   \n",
       "429905           Asia              Vietnam  1990     1673.249634     Zimbabwe   \n",
       "429906         Africa               Zambia  1990     2190.182814     Zimbabwe   \n",
       "429907         Africa             Zimbabwe  1990     3324.348171     Zimbabwe   \n",
       "\n",
       "        Edu_Percent   Edu_Dec  \n",
       "0           4.80435  0.048044  \n",
       "1           4.80435  0.048044  \n",
       "2           4.80435  0.048044  \n",
       "3           4.80435  0.048044  \n",
       "4           4.80435  0.048044  \n",
       "...             ...       ...  \n",
       "429903     12.45426  0.124543  \n",
       "429904     12.45426  0.124543  \n",
       "429905     12.45426  0.124543  \n",
       "429906     12.45426  0.124543  \n",
       "429907     12.45426  0.124543  \n",
       "\n",
       "[429078 rows x 7 columns]"
      ]
     },
     "execution_count": 50,
     "metadata": {},
     "output_type": "execute_result"
    }
   ],
   "source": [
    "# Merge gdp_df and edu_df, Dropping Saving changes back to edu_df\n",
    "edu_spend = pd.merge(\n",
    "    left = gdp_df,\n",
    "    right = edu_df,\n",
    "    how='right', \n",
    "    on='Year'\n",
    ").dropna()\n",
    "edu_spend"
   ]
  },
  {
   "cell_type": "markdown",
   "metadata": {},
   "source": [
    "2.    If time allows, check out the plotly library to add additional interativity to your plots. [https://plotly.com/python/plotly-express/](https://plotly.com/python/plotly-express/)."
   ]
  }
 ],
 "metadata": {
  "kernelspec": {
   "display_name": "Python 3 (ipykernel)",
   "language": "python",
   "name": "python3"
  },
  "language_info": {
   "codemirror_mode": {
    "name": "ipython",
    "version": 3
   },
   "file_extension": ".py",
   "mimetype": "text/x-python",
   "name": "python",
   "nbconvert_exporter": "python",
   "pygments_lexer": "ipython3",
   "version": "3.9.12"
  },
  "vscode": {
   "interpreter": {
    "hash": "9cc0023dd0500ed28e67985b04469bb742c0f0e8caa05f7ee20bd154dec9a3ec"
   }
  }
 },
 "nbformat": 4,
 "nbformat_minor": 2
}
